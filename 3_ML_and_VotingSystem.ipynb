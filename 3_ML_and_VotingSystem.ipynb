{
  "nbformat": 4,
  "nbformat_minor": 0,
  "metadata": {
    "colab": {
      "name": "Voting System",
      "provenance": [],
      "collapsed_sections": [
        "R8GD7FJ5D-cp",
        "mx-urdcZG_ZG",
        "tpxw6SFz2hGF",
        "HR3ii8NmCINX",
        "c0wZxOSW0ETv",
        "UH-BUgJgLelk"
      ]
    },
    "kernelspec": {
      "name": "python3",
      "display_name": "Python 3"
    },
    "language_info": {
      "name": "python"
    }
  },
  "cells": [
    {
      "cell_type": "markdown",
      "metadata": {
        "id": "AqWrnGw20cDm"
      },
      "source": [
        "# Import data"
      ]
    },
    {
      "cell_type": "code",
      "metadata": {
        "id": "eBoRHi9c1BR-"
      },
      "source": [
        "import pandas as pd\n",
        "import numpy as np"
      ],
      "execution_count": null,
      "outputs": []
    },
    {
      "cell_type": "code",
      "metadata": {
        "id": "9dlKWl02J6S4"
      },
      "source": [
        "data=pd.read_csv('/content/pca_results_5f_alldate.csv')"
      ],
      "execution_count": null,
      "outputs": []
    },
    {
      "cell_type": "code",
      "metadata": {
        "id": "By06s91hJ6PG"
      },
      "source": [
        "data=data.drop(columns='Unnamed: 0')"
      ],
      "execution_count": null,
      "outputs": []
    },
    {
      "cell_type": "code",
      "metadata": {
        "colab": {
          "resources": {
            "http://localhost:8080/nbextensions/google.colab/files.js": {
              "data": "Ly8gQ29weXJpZ2h0IDIwMTcgR29vZ2xlIExMQwovLwovLyBMaWNlbnNlZCB1bmRlciB0aGUgQXBhY2hlIExpY2Vuc2UsIFZlcnNpb24gMi4wICh0aGUgIkxpY2Vuc2UiKTsKLy8geW91IG1heSBub3QgdXNlIHRoaXMgZmlsZSBleGNlcHQgaW4gY29tcGxpYW5jZSB3aXRoIHRoZSBMaWNlbnNlLgovLyBZb3UgbWF5IG9idGFpbiBhIGNvcHkgb2YgdGhlIExpY2Vuc2UgYXQKLy8KLy8gICAgICBodHRwOi8vd3d3LmFwYWNoZS5vcmcvbGljZW5zZXMvTElDRU5TRS0yLjAKLy8KLy8gVW5sZXNzIHJlcXVpcmVkIGJ5IGFwcGxpY2FibGUgbGF3IG9yIGFncmVlZCB0byBpbiB3cml0aW5nLCBzb2Z0d2FyZQovLyBkaXN0cmlidXRlZCB1bmRlciB0aGUgTGljZW5zZSBpcyBkaXN0cmlidXRlZCBvbiBhbiAiQVMgSVMiIEJBU0lTLAovLyBXSVRIT1VUIFdBUlJBTlRJRVMgT1IgQ09ORElUSU9OUyBPRiBBTlkgS0lORCwgZWl0aGVyIGV4cHJlc3Mgb3IgaW1wbGllZC4KLy8gU2VlIHRoZSBMaWNlbnNlIGZvciB0aGUgc3BlY2lmaWMgbGFuZ3VhZ2UgZ292ZXJuaW5nIHBlcm1pc3Npb25zIGFuZAovLyBsaW1pdGF0aW9ucyB1bmRlciB0aGUgTGljZW5zZS4KCi8qKgogKiBAZmlsZW92ZXJ2aWV3IEhlbHBlcnMgZm9yIGdvb2dsZS5jb2xhYiBQeXRob24gbW9kdWxlLgogKi8KKGZ1bmN0aW9uKHNjb3BlKSB7CmZ1bmN0aW9uIHNwYW4odGV4dCwgc3R5bGVBdHRyaWJ1dGVzID0ge30pIHsKICBjb25zdCBlbGVtZW50ID0gZG9jdW1lbnQuY3JlYXRlRWxlbWVudCgnc3BhbicpOwogIGVsZW1lbnQudGV4dENvbnRlbnQgPSB0ZXh0OwogIGZvciAoY29uc3Qga2V5IG9mIE9iamVjdC5rZXlzKHN0eWxlQXR0cmlidXRlcykpIHsKICAgIGVsZW1lbnQuc3R5bGVba2V5XSA9IHN0eWxlQXR0cmlidXRlc1trZXldOwogIH0KICByZXR1cm4gZWxlbWVudDsKfQoKLy8gTWF4IG51bWJlciBvZiBieXRlcyB3aGljaCB3aWxsIGJlIHVwbG9hZGVkIGF0IGEgdGltZS4KY29uc3QgTUFYX1BBWUxPQURfU0laRSA9IDEwMCAqIDEwMjQ7CgpmdW5jdGlvbiBfdXBsb2FkRmlsZXMoaW5wdXRJZCwgb3V0cHV0SWQpIHsKICBjb25zdCBzdGVwcyA9IHVwbG9hZEZpbGVzU3RlcChpbnB1dElkLCBvdXRwdXRJZCk7CiAgY29uc3Qgb3V0cHV0RWxlbWVudCA9IGRvY3VtZW50LmdldEVsZW1lbnRCeUlkKG91dHB1dElkKTsKICAvLyBDYWNoZSBzdGVwcyBvbiB0aGUgb3V0cHV0RWxlbWVudCB0byBtYWtlIGl0IGF2YWlsYWJsZSBmb3IgdGhlIG5leHQgY2FsbAogIC8vIHRvIHVwbG9hZEZpbGVzQ29udGludWUgZnJvbSBQeXRob24uCiAgb3V0cHV0RWxlbWVudC5zdGVwcyA9IHN0ZXBzOwoKICByZXR1cm4gX3VwbG9hZEZpbGVzQ29udGludWUob3V0cHV0SWQpOwp9CgovLyBUaGlzIGlzIHJvdWdobHkgYW4gYXN5bmMgZ2VuZXJhdG9yIChub3Qgc3VwcG9ydGVkIGluIHRoZSBicm93c2VyIHlldCksCi8vIHdoZXJlIHRoZXJlIGFyZSBtdWx0aXBsZSBhc3luY2hyb25vdXMgc3RlcHMgYW5kIHRoZSBQeXRob24gc2lkZSBpcyBnb2luZwovLyB0byBwb2xsIGZvciBjb21wbGV0aW9uIG9mIGVhY2ggc3RlcC4KLy8gVGhpcyB1c2VzIGEgUHJvbWlzZSB0byBibG9jayB0aGUgcHl0aG9uIHNpZGUgb24gY29tcGxldGlvbiBvZiBlYWNoIHN0ZXAsCi8vIHRoZW4gcGFzc2VzIHRoZSByZXN1bHQgb2YgdGhlIHByZXZpb3VzIHN0ZXAgYXMgdGhlIGlucHV0IHRvIHRoZSBuZXh0IHN0ZXAuCmZ1bmN0aW9uIF91cGxvYWRGaWxlc0NvbnRpbnVlKG91dHB1dElkKSB7CiAgY29uc3Qgb3V0cHV0RWxlbWVudCA9IGRvY3VtZW50LmdldEVsZW1lbnRCeUlkKG91dHB1dElkKTsKICBjb25zdCBzdGVwcyA9IG91dHB1dEVsZW1lbnQuc3RlcHM7CgogIGNvbnN0IG5leHQgPSBzdGVwcy5uZXh0KG91dHB1dEVsZW1lbnQubGFzdFByb21pc2VWYWx1ZSk7CiAgcmV0dXJuIFByb21pc2UucmVzb2x2ZShuZXh0LnZhbHVlLnByb21pc2UpLnRoZW4oKHZhbHVlKSA9PiB7CiAgICAvLyBDYWNoZSB0aGUgbGFzdCBwcm9taXNlIHZhbHVlIHRvIG1ha2UgaXQgYXZhaWxhYmxlIHRvIHRoZSBuZXh0CiAgICAvLyBzdGVwIG9mIHRoZSBnZW5lcmF0b3IuCiAgICBvdXRwdXRFbGVtZW50Lmxhc3RQcm9taXNlVmFsdWUgPSB2YWx1ZTsKICAgIHJldHVybiBuZXh0LnZhbHVlLnJlc3BvbnNlOwogIH0pOwp9CgovKioKICogR2VuZXJhdG9yIGZ1bmN0aW9uIHdoaWNoIGlzIGNhbGxlZCBiZXR3ZWVuIGVhY2ggYXN5bmMgc3RlcCBvZiB0aGUgdXBsb2FkCiAqIHByb2Nlc3MuCiAqIEBwYXJhbSB7c3RyaW5nfSBpbnB1dElkIEVsZW1lbnQgSUQgb2YgdGhlIGlucHV0IGZpbGUgcGlja2VyIGVsZW1lbnQuCiAqIEBwYXJhbSB7c3RyaW5nfSBvdXRwdXRJZCBFbGVtZW50IElEIG9mIHRoZSBvdXRwdXQgZGlzcGxheS4KICogQHJldHVybiB7IUl0ZXJhYmxlPCFPYmplY3Q+fSBJdGVyYWJsZSBvZiBuZXh0IHN0ZXBzLgogKi8KZnVuY3Rpb24qIHVwbG9hZEZpbGVzU3RlcChpbnB1dElkLCBvdXRwdXRJZCkgewogIGNvbnN0IGlucHV0RWxlbWVudCA9IGRvY3VtZW50LmdldEVsZW1lbnRCeUlkKGlucHV0SWQpOwogIGlucHV0RWxlbWVudC5kaXNhYmxlZCA9IGZhbHNlOwoKICBjb25zdCBvdXRwdXRFbGVtZW50ID0gZG9jdW1lbnQuZ2V0RWxlbWVudEJ5SWQob3V0cHV0SWQpOwogIG91dHB1dEVsZW1lbnQuaW5uZXJIVE1MID0gJyc7CgogIGNvbnN0IHBpY2tlZFByb21pc2UgPSBuZXcgUHJvbWlzZSgocmVzb2x2ZSkgPT4gewogICAgaW5wdXRFbGVtZW50LmFkZEV2ZW50TGlzdGVuZXIoJ2NoYW5nZScsIChlKSA9PiB7CiAgICAgIHJlc29sdmUoZS50YXJnZXQuZmlsZXMpOwogICAgfSk7CiAgfSk7CgogIGNvbnN0IGNhbmNlbCA9IGRvY3VtZW50LmNyZWF0ZUVsZW1lbnQoJ2J1dHRvbicpOwogIGlucHV0RWxlbWVudC5wYXJlbnRFbGVtZW50LmFwcGVuZENoaWxkKGNhbmNlbCk7CiAgY2FuY2VsLnRleHRDb250ZW50ID0gJ0NhbmNlbCB1cGxvYWQnOwogIGNvbnN0IGNhbmNlbFByb21pc2UgPSBuZXcgUHJvbWlzZSgocmVzb2x2ZSkgPT4gewogICAgY2FuY2VsLm9uY2xpY2sgPSAoKSA9PiB7CiAgICAgIHJlc29sdmUobnVsbCk7CiAgICB9OwogIH0pOwoKICAvLyBXYWl0IGZvciB0aGUgdXNlciB0byBwaWNrIHRoZSBmaWxlcy4KICBjb25zdCBmaWxlcyA9IHlpZWxkIHsKICAgIHByb21pc2U6IFByb21pc2UucmFjZShbcGlja2VkUHJvbWlzZSwgY2FuY2VsUHJvbWlzZV0pLAogICAgcmVzcG9uc2U6IHsKICAgICAgYWN0aW9uOiAnc3RhcnRpbmcnLAogICAgfQogIH07CgogIGNhbmNlbC5yZW1vdmUoKTsKCiAgLy8gRGlzYWJsZSB0aGUgaW5wdXQgZWxlbWVudCBzaW5jZSBmdXJ0aGVyIHBpY2tzIGFyZSBub3QgYWxsb3dlZC4KICBpbnB1dEVsZW1lbnQuZGlzYWJsZWQgPSB0cnVlOwoKICBpZiAoIWZpbGVzKSB7CiAgICByZXR1cm4gewogICAgICByZXNwb25zZTogewogICAgICAgIGFjdGlvbjogJ2NvbXBsZXRlJywKICAgICAgfQogICAgfTsKICB9CgogIGZvciAoY29uc3QgZmlsZSBvZiBmaWxlcykgewogICAgY29uc3QgbGkgPSBkb2N1bWVudC5jcmVhdGVFbGVtZW50KCdsaScpOwogICAgbGkuYXBwZW5kKHNwYW4oZmlsZS5uYW1lLCB7Zm9udFdlaWdodDogJ2JvbGQnfSkpOwogICAgbGkuYXBwZW5kKHNwYW4oCiAgICAgICAgYCgke2ZpbGUudHlwZSB8fCAnbi9hJ30pIC0gJHtmaWxlLnNpemV9IGJ5dGVzLCBgICsKICAgICAgICBgbGFzdCBtb2RpZmllZDogJHsKICAgICAgICAgICAgZmlsZS5sYXN0TW9kaWZpZWREYXRlID8gZmlsZS5sYXN0TW9kaWZpZWREYXRlLnRvTG9jYWxlRGF0ZVN0cmluZygpIDoKICAgICAgICAgICAgICAgICAgICAgICAgICAgICAgICAgICAgJ24vYSd9IC0gYCkpOwogICAgY29uc3QgcGVyY2VudCA9IHNwYW4oJzAlIGRvbmUnKTsKICAgIGxpLmFwcGVuZENoaWxkKHBlcmNlbnQpOwoKICAgIG91dHB1dEVsZW1lbnQuYXBwZW5kQ2hpbGQobGkpOwoKICAgIGNvbnN0IGZpbGVEYXRhUHJvbWlzZSA9IG5ldyBQcm9taXNlKChyZXNvbHZlKSA9PiB7CiAgICAgIGNvbnN0IHJlYWRlciA9IG5ldyBGaWxlUmVhZGVyKCk7CiAgICAgIHJlYWRlci5vbmxvYWQgPSAoZSkgPT4gewogICAgICAgIHJlc29sdmUoZS50YXJnZXQucmVzdWx0KTsKICAgICAgfTsKICAgICAgcmVhZGVyLnJlYWRBc0FycmF5QnVmZmVyKGZpbGUpOwogICAgfSk7CiAgICAvLyBXYWl0IGZvciB0aGUgZGF0YSB0byBiZSByZWFkeS4KICAgIGxldCBmaWxlRGF0YSA9IHlpZWxkIHsKICAgICAgcHJvbWlzZTogZmlsZURhdGFQcm9taXNlLAogICAgICByZXNwb25zZTogewogICAgICAgIGFjdGlvbjogJ2NvbnRpbnVlJywKICAgICAgfQogICAgfTsKCiAgICAvLyBVc2UgYSBjaHVua2VkIHNlbmRpbmcgdG8gYXZvaWQgbWVzc2FnZSBzaXplIGxpbWl0cy4gU2VlIGIvNjIxMTU2NjAuCiAgICBsZXQgcG9zaXRpb24gPSAwOwogICAgZG8gewogICAgICBjb25zdCBsZW5ndGggPSBNYXRoLm1pbihmaWxlRGF0YS5ieXRlTGVuZ3RoIC0gcG9zaXRpb24sIE1BWF9QQVlMT0FEX1NJWkUpOwogICAgICBjb25zdCBjaHVuayA9IG5ldyBVaW50OEFycmF5KGZpbGVEYXRhLCBwb3NpdGlvbiwgbGVuZ3RoKTsKICAgICAgcG9zaXRpb24gKz0gbGVuZ3RoOwoKICAgICAgY29uc3QgYmFzZTY0ID0gYnRvYShTdHJpbmcuZnJvbUNoYXJDb2RlLmFwcGx5KG51bGwsIGNodW5rKSk7CiAgICAgIHlpZWxkIHsKICAgICAgICByZXNwb25zZTogewogICAgICAgICAgYWN0aW9uOiAnYXBwZW5kJywKICAgICAgICAgIGZpbGU6IGZpbGUubmFtZSwKICAgICAgICAgIGRhdGE6IGJhc2U2NCwKICAgICAgICB9LAogICAgICB9OwoKICAgICAgbGV0IHBlcmNlbnREb25lID0gZmlsZURhdGEuYnl0ZUxlbmd0aCA9PT0gMCA/CiAgICAgICAgICAxMDAgOgogICAgICAgICAgTWF0aC5yb3VuZCgocG9zaXRpb24gLyBmaWxlRGF0YS5ieXRlTGVuZ3RoKSAqIDEwMCk7CiAgICAgIHBlcmNlbnQudGV4dENvbnRlbnQgPSBgJHtwZXJjZW50RG9uZX0lIGRvbmVgOwoKICAgIH0gd2hpbGUgKHBvc2l0aW9uIDwgZmlsZURhdGEuYnl0ZUxlbmd0aCk7CiAgfQoKICAvLyBBbGwgZG9uZS4KICB5aWVsZCB7CiAgICByZXNwb25zZTogewogICAgICBhY3Rpb246ICdjb21wbGV0ZScsCiAgICB9CiAgfTsKfQoKc2NvcGUuZ29vZ2xlID0gc2NvcGUuZ29vZ2xlIHx8IHt9OwpzY29wZS5nb29nbGUuY29sYWIgPSBzY29wZS5nb29nbGUuY29sYWIgfHwge307CnNjb3BlLmdvb2dsZS5jb2xhYi5fZmlsZXMgPSB7CiAgX3VwbG9hZEZpbGVzLAogIF91cGxvYWRGaWxlc0NvbnRpbnVlLAp9Owp9KShzZWxmKTsK",
              "ok": true,
              "headers": [
                [
                  "content-type",
                  "application/javascript"
                ]
              ],
              "status": 200,
              "status_text": ""
            }
          },
          "base_uri": "https://localhost:8080/",
          "height": 72
        },
        "id": "GwpT6BxKz_4u",
        "outputId": "2812e367-b2b7-4923-d2f7-4a2bfdda48f9"
      },
      "source": [
        "from google.colab import files\n",
        "uploaded = files.upload()"
      ],
      "execution_count": null,
      "outputs": [
        {
          "output_type": "display_data",
          "data": {
            "text/html": [
              "\n",
              "     <input type=\"file\" id=\"files-f100d402-a828-4983-bcce-9e622c5b8c56\" name=\"files[]\" multiple disabled\n",
              "        style=\"border:none\" />\n",
              "     <output id=\"result-f100d402-a828-4983-bcce-9e622c5b8c56\">\n",
              "      Upload widget is only available when the cell has been executed in the\n",
              "      current browser session. Please rerun this cell to enable.\n",
              "      </output>\n",
              "      <script src=\"/nbextensions/google.colab/files.js\"></script> "
            ],
            "text/plain": [
              "<IPython.core.display.HTML object>"
            ]
          },
          "metadata": {}
        },
        {
          "output_type": "stream",
          "name": "stdout",
          "text": [
            "Saving data.csv to data.csv\n"
          ]
        }
      ]
    },
    {
      "cell_type": "code",
      "metadata": {
        "id": "Bqq58GKeDTc9"
      },
      "source": [
        "#Carol's path\n",
        "data=pd.read_csv('/content/data.csv')\n",
        "pca = pd.read_csv('/content/pca_results_7f_alldate.csv')"
      ],
      "execution_count": null,
      "outputs": []
    },
    {
      "cell_type": "code",
      "metadata": {
        "id": "Vy3AvnJT0Lh7",
        "colab": {
          "base_uri": "https://localhost:8080/",
          "height": 374
        },
        "outputId": "bee612d6-b299-42ed-dfd5-d217c0c94ae9"
      },
      "source": [
        "data = pd.read_csv('data.csv')\n",
        "data = data.set_index('DateTime')\n",
        "data.tail()"
      ],
      "execution_count": null,
      "outputs": [
        {
          "output_type": "execute_result",
          "data": {
            "text/html": [
              "<div>\n",
              "<style scoped>\n",
              "    .dataframe tbody tr th:only-of-type {\n",
              "        vertical-align: middle;\n",
              "    }\n",
              "\n",
              "    .dataframe tbody tr th {\n",
              "        vertical-align: top;\n",
              "    }\n",
              "\n",
              "    .dataframe thead th {\n",
              "        text-align: right;\n",
              "    }\n",
              "</style>\n",
              "<table border=\"1\" class=\"dataframe\">\n",
              "  <thead>\n",
              "    <tr style=\"text-align: right;\">\n",
              "      <th></th>\n",
              "      <th>high</th>\n",
              "      <th>low</th>\n",
              "      <th>open</th>\n",
              "      <th>close</th>\n",
              "      <th>volumeto</th>\n",
              "      <th>ETH</th>\n",
              "      <th>SP500</th>\n",
              "      <th>Russell_2000</th>\n",
              "      <th>Crude_oil</th>\n",
              "      <th>Gold</th>\n",
              "      <th>Silver</th>\n",
              "      <th>EUR/USD</th>\n",
              "      <th>Treasury Yield 10 Years</th>\n",
              "      <th>USD/JPY</th>\n",
              "      <th>wiki_Bitcoin</th>\n",
              "      <th>wiki_Cryptocurrency</th>\n",
              "      <th>wiki_Coinbase</th>\n",
              "    </tr>\n",
              "    <tr>\n",
              "      <th>DateTime</th>\n",
              "      <th></th>\n",
              "      <th></th>\n",
              "      <th></th>\n",
              "      <th></th>\n",
              "      <th></th>\n",
              "      <th></th>\n",
              "      <th></th>\n",
              "      <th></th>\n",
              "      <th></th>\n",
              "      <th></th>\n",
              "      <th></th>\n",
              "      <th></th>\n",
              "      <th></th>\n",
              "      <th></th>\n",
              "      <th></th>\n",
              "      <th></th>\n",
              "      <th></th>\n",
              "    </tr>\n",
              "  </thead>\n",
              "  <tbody>\n",
              "    <tr>\n",
              "      <th>2021-11-26</th>\n",
              "      <td>59201.95</td>\n",
              "      <td>53575.54</td>\n",
              "      <td>58966.99</td>\n",
              "      <td>53788.22</td>\n",
              "      <td>3.312563e+09</td>\n",
              "      <td>4042.55</td>\n",
              "      <td>4594.620117</td>\n",
              "      <td>2245.939941</td>\n",
              "      <td>68.150002</td>\n",
              "      <td>1785.300049</td>\n",
              "      <td>23.107000</td>\n",
              "      <td>1.120963</td>\n",
              "      <td>1.482</td>\n",
              "      <td>115.069000</td>\n",
              "      <td>7057</td>\n",
              "      <td>5624</td>\n",
              "      <td>1720</td>\n",
              "    </tr>\n",
              "    <tr>\n",
              "      <th>2021-11-29</th>\n",
              "      <td>58898.57</td>\n",
              "      <td>56752.37</td>\n",
              "      <td>57331.41</td>\n",
              "      <td>57839.55</td>\n",
              "      <td>1.690006e+09</td>\n",
              "      <td>4448.49</td>\n",
              "      <td>4655.270020</td>\n",
              "      <td>2241.979980</td>\n",
              "      <td>69.949997</td>\n",
              "      <td>1782.300049</td>\n",
              "      <td>22.799000</td>\n",
              "      <td>1.129318</td>\n",
              "      <td>1.530</td>\n",
              "      <td>113.719002</td>\n",
              "      <td>7558</td>\n",
              "      <td>6341</td>\n",
              "      <td>2139</td>\n",
              "    </tr>\n",
              "    <tr>\n",
              "      <th>2021-11-30</th>\n",
              "      <td>59226.33</td>\n",
              "      <td>55931.33</td>\n",
              "      <td>57839.55</td>\n",
              "      <td>56975.35</td>\n",
              "      <td>2.383744e+09</td>\n",
              "      <td>4631.10</td>\n",
              "      <td>4567.000000</td>\n",
              "      <td>2198.909912</td>\n",
              "      <td>66.180000</td>\n",
              "      <td>1773.599976</td>\n",
              "      <td>22.764999</td>\n",
              "      <td>1.129344</td>\n",
              "      <td>1.443</td>\n",
              "      <td>113.804001</td>\n",
              "      <td>8005</td>\n",
              "      <td>6532</td>\n",
              "      <td>2477</td>\n",
              "    </tr>\n",
              "    <tr>\n",
              "      <th>2021-12-01</th>\n",
              "      <td>59096.53</td>\n",
              "      <td>56505.99</td>\n",
              "      <td>56975.35</td>\n",
              "      <td>57227.97</td>\n",
              "      <td>2.072824e+09</td>\n",
              "      <td>4587.74</td>\n",
              "      <td>4513.040039</td>\n",
              "      <td>2147.419922</td>\n",
              "      <td>65.570000</td>\n",
              "      <td>1781.599976</td>\n",
              "      <td>22.299000</td>\n",
              "      <td>1.133029</td>\n",
              "      <td>1.434</td>\n",
              "      <td>113.299004</td>\n",
              "      <td>6932</td>\n",
              "      <td>5674</td>\n",
              "      <td>2385</td>\n",
              "    </tr>\n",
              "    <tr>\n",
              "      <th>2021-12-02</th>\n",
              "      <td>57409.48</td>\n",
              "      <td>55850.40</td>\n",
              "      <td>57227.97</td>\n",
              "      <td>56455.09</td>\n",
              "      <td>1.332402e+09</td>\n",
              "      <td>4502.86</td>\n",
              "      <td>4583.049805</td>\n",
              "      <td>2190.657471</td>\n",
              "      <td>66.059998</td>\n",
              "      <td>1763.699951</td>\n",
              "      <td>22.350000</td>\n",
              "      <td>1.130199</td>\n",
              "      <td>1.458</td>\n",
              "      <td>113.162003</td>\n",
              "      <td>4597</td>\n",
              "      <td>3888</td>\n",
              "      <td>1229</td>\n",
              "    </tr>\n",
              "  </tbody>\n",
              "</table>\n",
              "</div>"
            ],
            "text/plain": [
              "                high       low  ...  wiki_Cryptocurrency  wiki_Coinbase\n",
              "DateTime                        ...                                    \n",
              "2021-11-26  59201.95  53575.54  ...                 5624           1720\n",
              "2021-11-29  58898.57  56752.37  ...                 6341           2139\n",
              "2021-11-30  59226.33  55931.33  ...                 6532           2477\n",
              "2021-12-01  59096.53  56505.99  ...                 5674           2385\n",
              "2021-12-02  57409.48  55850.40  ...                 3888           1229\n",
              "\n",
              "[5 rows x 17 columns]"
            ]
          },
          "metadata": {},
          "execution_count": 3
        }
      ]
    },
    {
      "cell_type": "code",
      "metadata": {
        "colab": {
          "resources": {
            "http://localhost:8080/nbextensions/google.colab/files.js": {
              "data": "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",
              "ok": true,
              "headers": [
                [
                  "content-type",
                  "application/javascript"
                ]
              ],
              "status": 200,
              "status_text": ""
            }
          },
          "base_uri": "https://localhost:8080/",
          "height": 72
        },
        "id": "Jki0Py2IKnge",
        "outputId": "d35a0781-9507-4d1f-a892-8952140eb092"
      },
      "source": [
        "from google.colab import files\n",
        "uploaded = files.upload()"
      ],
      "execution_count": null,
      "outputs": [
        {
          "output_type": "display_data",
          "data": {
            "text/html": [
              "\n",
              "     <input type=\"file\" id=\"files-47982383-d324-4592-97a6-fd8739f15170\" name=\"files[]\" multiple disabled\n",
              "        style=\"border:none\" />\n",
              "     <output id=\"result-47982383-d324-4592-97a6-fd8739f15170\">\n",
              "      Upload widget is only available when the cell has been executed in the\n",
              "      current browser session. Please rerun this cell to enable.\n",
              "      </output>\n",
              "      <script src=\"/nbextensions/google.colab/files.js\"></script> "
            ],
            "text/plain": [
              "<IPython.core.display.HTML object>"
            ]
          },
          "metadata": {}
        },
        {
          "output_type": "stream",
          "name": "stdout",
          "text": [
            "Saving pca_results_7f_alldate.csv to pca_results_7f_alldate.csv\n"
          ]
        }
      ]
    },
    {
      "cell_type": "code",
      "metadata": {
        "id": "5QvSVDqYgoAS"
      },
      "source": [
        "pca = pd.read_csv('pca_results_7f_alldate.csv')\n",
        "pca = pca[['pc_1', 'pc_2', 'pc_3', 'pc_4', 'pc_5', 'pc_6', 'pc_7']]\n",
        "pca.index = data.index"
      ],
      "execution_count": null,
      "outputs": []
    },
    {
      "cell_type": "code",
      "metadata": {
        "colab": {
          "base_uri": "https://localhost:8080/",
          "height": 235
        },
        "id": "5WcFW15FpATM",
        "outputId": "33690165-d8b9-43bb-d33a-94013076f6ab"
      },
      "source": [
        "pca.tail()"
      ],
      "execution_count": null,
      "outputs": [
        {
          "output_type": "execute_result",
          "data": {
            "text/html": [
              "<div>\n",
              "<style scoped>\n",
              "    .dataframe tbody tr th:only-of-type {\n",
              "        vertical-align: middle;\n",
              "    }\n",
              "\n",
              "    .dataframe tbody tr th {\n",
              "        vertical-align: top;\n",
              "    }\n",
              "\n",
              "    .dataframe thead th {\n",
              "        text-align: right;\n",
              "    }\n",
              "</style>\n",
              "<table border=\"1\" class=\"dataframe\">\n",
              "  <thead>\n",
              "    <tr style=\"text-align: right;\">\n",
              "      <th></th>\n",
              "      <th>pc_1</th>\n",
              "      <th>pc_2</th>\n",
              "      <th>pc_3</th>\n",
              "      <th>pc_4</th>\n",
              "      <th>pc_5</th>\n",
              "      <th>pc_6</th>\n",
              "      <th>pc_7</th>\n",
              "    </tr>\n",
              "    <tr>\n",
              "      <th>DateTime</th>\n",
              "      <th></th>\n",
              "      <th></th>\n",
              "      <th></th>\n",
              "      <th></th>\n",
              "      <th></th>\n",
              "      <th></th>\n",
              "      <th></th>\n",
              "    </tr>\n",
              "  </thead>\n",
              "  <tbody>\n",
              "    <tr>\n",
              "      <th>2021-11-26</th>\n",
              "      <td>7.144434</td>\n",
              "      <td>0.364407</td>\n",
              "      <td>-2.157782</td>\n",
              "      <td>2.016871</td>\n",
              "      <td>0.113797</td>\n",
              "      <td>-1.153178</td>\n",
              "      <td>-0.451947</td>\n",
              "    </tr>\n",
              "    <tr>\n",
              "      <th>2021-11-29</th>\n",
              "      <td>7.140814</td>\n",
              "      <td>0.357431</td>\n",
              "      <td>-2.225540</td>\n",
              "      <td>1.843939</td>\n",
              "      <td>-0.139786</td>\n",
              "      <td>0.239506</td>\n",
              "      <td>-0.832773</td>\n",
              "    </tr>\n",
              "    <tr>\n",
              "      <th>2021-11-30</th>\n",
              "      <td>7.288559</td>\n",
              "      <td>0.426162</td>\n",
              "      <td>-1.827395</td>\n",
              "      <td>2.085112</td>\n",
              "      <td>0.172257</td>\n",
              "      <td>-0.169554</td>\n",
              "      <td>-0.617445</td>\n",
              "    </tr>\n",
              "    <tr>\n",
              "      <th>2021-12-01</th>\n",
              "      <td>7.047452</td>\n",
              "      <td>0.175963</td>\n",
              "      <td>-1.921008</td>\n",
              "      <td>1.968795</td>\n",
              "      <td>0.229543</td>\n",
              "      <td>0.003073</td>\n",
              "      <td>-0.600038</td>\n",
              "    </tr>\n",
              "    <tr>\n",
              "      <th>2021-12-02</th>\n",
              "      <td>6.540719</td>\n",
              "      <td>-0.416585</td>\n",
              "      <td>-2.696087</td>\n",
              "      <td>1.634378</td>\n",
              "      <td>-0.184203</td>\n",
              "      <td>0.037626</td>\n",
              "      <td>-0.963300</td>\n",
              "    </tr>\n",
              "  </tbody>\n",
              "</table>\n",
              "</div>"
            ],
            "text/plain": [
              "                pc_1      pc_2      pc_3  ...      pc_5      pc_6      pc_7\n",
              "DateTime                                  ...                              \n",
              "2021-11-26  7.144434  0.364407 -2.157782  ...  0.113797 -1.153178 -0.451947\n",
              "2021-11-29  7.140814  0.357431 -2.225540  ... -0.139786  0.239506 -0.832773\n",
              "2021-11-30  7.288559  0.426162 -1.827395  ...  0.172257 -0.169554 -0.617445\n",
              "2021-12-01  7.047452  0.175963 -1.921008  ...  0.229543  0.003073 -0.600038\n",
              "2021-12-02  6.540719 -0.416585 -2.696087  ... -0.184203  0.037626 -0.963300\n",
              "\n",
              "[5 rows x 7 columns]"
            ]
          },
          "metadata": {},
          "execution_count": 7
        }
      ]
    },
    {
      "cell_type": "code",
      "metadata": {
        "id": "UwjT1rQ_LUSW"
      },
      "source": [
        "# data[['pca_1', 'pca_2', 'pca_3', 'pca_4', 'pca_5']] = pca[['pc_ 1', 'pc_2', 'pc_3', 'pc_4', 'pc_5']]\n",
        "data= pd.concat([data, pca], axis=1, join='inner')\n"
      ],
      "execution_count": null,
      "outputs": []
    },
    {
      "cell_type": "code",
      "metadata": {
        "id": "bzyCf8150SAo"
      },
      "source": [
        "data['f_price']=data['close'].shift(-30)"
      ],
      "execution_count": null,
      "outputs": []
    },
    {
      "cell_type": "code",
      "metadata": {
        "id": "brRMBcaK0SiC"
      },
      "source": [
        "data['r']=data['close'].pct_change(30).shift(-30)\n",
        "data['class']=np.where(data['r']>0,1,0)\n",
        "# data['class']=np.where(data['r']<-0.1, -1, data['class'])"
      ],
      "execution_count": null,
      "outputs": []
    },
    {
      "cell_type": "code",
      "metadata": {
        "id": "7EBC_sNp0Uba"
      },
      "source": [
        "data=data.dropna()"
      ],
      "execution_count": null,
      "outputs": []
    },
    {
      "cell_type": "code",
      "metadata": {
        "colab": {
          "base_uri": "https://localhost:8080/",
          "height": 374
        },
        "id": "DBRU6FN7e9nk",
        "outputId": "61c79c36-c3bd-4092-bb64-68ec868b5e7e"
      },
      "source": [
        "data.tail()"
      ],
      "execution_count": null,
      "outputs": [
        {
          "output_type": "execute_result",
          "data": {
            "text/html": [
              "<div>\n",
              "<style scoped>\n",
              "    .dataframe tbody tr th:only-of-type {\n",
              "        vertical-align: middle;\n",
              "    }\n",
              "\n",
              "    .dataframe tbody tr th {\n",
              "        vertical-align: top;\n",
              "    }\n",
              "\n",
              "    .dataframe thead th {\n",
              "        text-align: right;\n",
              "    }\n",
              "</style>\n",
              "<table border=\"1\" class=\"dataframe\">\n",
              "  <thead>\n",
              "    <tr style=\"text-align: right;\">\n",
              "      <th></th>\n",
              "      <th>high</th>\n",
              "      <th>low</th>\n",
              "      <th>open</th>\n",
              "      <th>close</th>\n",
              "      <th>volumeto</th>\n",
              "      <th>ETH</th>\n",
              "      <th>SP500</th>\n",
              "      <th>Russell_2000</th>\n",
              "      <th>Crude_oil</th>\n",
              "      <th>Gold</th>\n",
              "      <th>Silver</th>\n",
              "      <th>EUR/USD</th>\n",
              "      <th>Treasury Yield 10 Years</th>\n",
              "      <th>USD/JPY</th>\n",
              "      <th>wiki_Bitcoin</th>\n",
              "      <th>wiki_Cryptocurrency</th>\n",
              "      <th>wiki_Coinbase</th>\n",
              "      <th>pc_1</th>\n",
              "      <th>pc_2</th>\n",
              "      <th>pc_3</th>\n",
              "      <th>pc_4</th>\n",
              "      <th>pc_5</th>\n",
              "      <th>pc_6</th>\n",
              "      <th>pc_7</th>\n",
              "      <th>f_price</th>\n",
              "      <th>r</th>\n",
              "      <th>class</th>\n",
              "    </tr>\n",
              "    <tr>\n",
              "      <th>DateTime</th>\n",
              "      <th></th>\n",
              "      <th></th>\n",
              "      <th></th>\n",
              "      <th></th>\n",
              "      <th></th>\n",
              "      <th></th>\n",
              "      <th></th>\n",
              "      <th></th>\n",
              "      <th></th>\n",
              "      <th></th>\n",
              "      <th></th>\n",
              "      <th></th>\n",
              "      <th></th>\n",
              "      <th></th>\n",
              "      <th></th>\n",
              "      <th></th>\n",
              "      <th></th>\n",
              "      <th></th>\n",
              "      <th></th>\n",
              "      <th></th>\n",
              "      <th></th>\n",
              "      <th></th>\n",
              "      <th></th>\n",
              "      <th></th>\n",
              "      <th></th>\n",
              "      <th></th>\n",
              "      <th></th>\n",
              "    </tr>\n",
              "  </thead>\n",
              "  <tbody>\n",
              "    <tr>\n",
              "      <th>2021-10-14</th>\n",
              "      <td>58514.76</td>\n",
              "      <td>56854.38</td>\n",
              "      <td>57369.00</td>\n",
              "      <td>57359.21</td>\n",
              "      <td>1.617497e+09</td>\n",
              "      <td>3791.23</td>\n",
              "      <td>4438.259766</td>\n",
              "      <td>2274.179932</td>\n",
              "      <td>81.309998</td>\n",
              "      <td>1796.699951</td>\n",
              "      <td>23.455999</td>\n",
              "      <td>1.159958</td>\n",
              "      <td>1.519</td>\n",
              "      <td>113.301003</td>\n",
              "      <td>8343</td>\n",
              "      <td>3895</td>\n",
              "      <td>1867</td>\n",
              "      <td>7.005658</td>\n",
              "      <td>0.285685</td>\n",
              "      <td>-2.559554</td>\n",
              "      <td>0.903543</td>\n",
              "      <td>-0.104890</td>\n",
              "      <td>0.481327</td>\n",
              "      <td>-0.675745</td>\n",
              "      <td>53788.22</td>\n",
              "      <td>-0.062257</td>\n",
              "      <td>0</td>\n",
              "    </tr>\n",
              "    <tr>\n",
              "      <th>2021-10-15</th>\n",
              "      <td>62889.98</td>\n",
              "      <td>56885.66</td>\n",
              "      <td>57359.21</td>\n",
              "      <td>61684.96</td>\n",
              "      <td>3.737890e+09</td>\n",
              "      <td>3868.16</td>\n",
              "      <td>4471.370117</td>\n",
              "      <td>2265.649902</td>\n",
              "      <td>82.279999</td>\n",
              "      <td>1767.199951</td>\n",
              "      <td>23.327999</td>\n",
              "      <td>1.159152</td>\n",
              "      <td>1.576</td>\n",
              "      <td>113.834000</td>\n",
              "      <td>9243</td>\n",
              "      <td>3710</td>\n",
              "      <td>1837</td>\n",
              "      <td>7.663466</td>\n",
              "      <td>0.665834</td>\n",
              "      <td>-2.376953</td>\n",
              "      <td>0.967492</td>\n",
              "      <td>0.615435</td>\n",
              "      <td>-0.987363</td>\n",
              "      <td>-0.411190</td>\n",
              "      <td>57839.55</td>\n",
              "      <td>-0.062340</td>\n",
              "      <td>0</td>\n",
              "    </tr>\n",
              "    <tr>\n",
              "      <th>2021-10-18</th>\n",
              "      <td>62662.72</td>\n",
              "      <td>59925.93</td>\n",
              "      <td>61520.54</td>\n",
              "      <td>62038.16</td>\n",
              "      <td>3.113486e+09</td>\n",
              "      <td>3746.14</td>\n",
              "      <td>4486.459961</td>\n",
              "      <td>2267.840088</td>\n",
              "      <td>82.440002</td>\n",
              "      <td>1764.800049</td>\n",
              "      <td>23.243000</td>\n",
              "      <td>1.159703</td>\n",
              "      <td>1.584</td>\n",
              "      <td>114.323997</td>\n",
              "      <td>9092</td>\n",
              "      <td>4335</td>\n",
              "      <td>1898</td>\n",
              "      <td>7.668160</td>\n",
              "      <td>0.742665</td>\n",
              "      <td>-2.490919</td>\n",
              "      <td>1.077909</td>\n",
              "      <td>0.378784</td>\n",
              "      <td>-0.594662</td>\n",
              "      <td>-0.462852</td>\n",
              "      <td>56975.35</td>\n",
              "      <td>-0.081608</td>\n",
              "      <td>0</td>\n",
              "    </tr>\n",
              "    <tr>\n",
              "      <th>2021-10-19</th>\n",
              "      <td>64468.70</td>\n",
              "      <td>61410.11</td>\n",
              "      <td>62038.16</td>\n",
              "      <td>64283.97</td>\n",
              "      <td>2.706420e+09</td>\n",
              "      <td>3877.45</td>\n",
              "      <td>4519.629883</td>\n",
              "      <td>2275.909912</td>\n",
              "      <td>82.959999</td>\n",
              "      <td>1769.699951</td>\n",
              "      <td>23.862000</td>\n",
              "      <td>1.161386</td>\n",
              "      <td>1.635</td>\n",
              "      <td>114.285004</td>\n",
              "      <td>8104</td>\n",
              "      <td>4537</td>\n",
              "      <td>2025</td>\n",
              "      <td>7.824595</td>\n",
              "      <td>0.711563</td>\n",
              "      <td>-2.615736</td>\n",
              "      <td>1.061750</td>\n",
              "      <td>0.299839</td>\n",
              "      <td>-0.245571</td>\n",
              "      <td>-0.512209</td>\n",
              "      <td>57227.97</td>\n",
              "      <td>-0.109763</td>\n",
              "      <td>0</td>\n",
              "    </tr>\n",
              "    <tr>\n",
              "      <th>2021-10-20</th>\n",
              "      <td>66980.66</td>\n",
              "      <td>63543.70</td>\n",
              "      <td>64283.97</td>\n",
              "      <td>66021.02</td>\n",
              "      <td>2.978059e+09</td>\n",
              "      <td>4162.49</td>\n",
              "      <td>4536.189941</td>\n",
              "      <td>2289.770020</td>\n",
              "      <td>83.870003</td>\n",
              "      <td>1784.099976</td>\n",
              "      <td>24.424000</td>\n",
              "      <td>1.163196</td>\n",
              "      <td>1.636</td>\n",
              "      <td>114.542999</td>\n",
              "      <td>9733</td>\n",
              "      <td>4721</td>\n",
              "      <td>2224</td>\n",
              "      <td>8.279484</td>\n",
              "      <td>0.868086</td>\n",
              "      <td>-2.558554</td>\n",
              "      <td>1.168953</td>\n",
              "      <td>0.375555</td>\n",
              "      <td>-0.311683</td>\n",
              "      <td>-0.551580</td>\n",
              "      <td>56455.09</td>\n",
              "      <td>-0.144892</td>\n",
              "      <td>0</td>\n",
              "    </tr>\n",
              "  </tbody>\n",
              "</table>\n",
              "</div>"
            ],
            "text/plain": [
              "                high       low      open  ...   f_price         r  class\n",
              "DateTime                                  ...                           \n",
              "2021-10-14  58514.76  56854.38  57369.00  ...  53788.22 -0.062257      0\n",
              "2021-10-15  62889.98  56885.66  57359.21  ...  57839.55 -0.062340      0\n",
              "2021-10-18  62662.72  59925.93  61520.54  ...  56975.35 -0.081608      0\n",
              "2021-10-19  64468.70  61410.11  62038.16  ...  57227.97 -0.109763      0\n",
              "2021-10-20  66980.66  63543.70  64283.97  ...  56455.09 -0.144892      0\n",
              "\n",
              "[5 rows x 27 columns]"
            ]
          },
          "metadata": {},
          "execution_count": 12
        }
      ]
    },
    {
      "cell_type": "code",
      "metadata": {
        "id": "zgwXHmr_0YEl"
      },
      "source": [
        "# Original Data\n",
        "X = data[['high', 'low', 'open','close', 'volumeto', 'ETH', 'SP500', 'Russell_2000', 'Crude_oil', 'Gold', 'Silver', 'EUR/USD',\n",
        "          'Treasury Yield 10 Years', 'USD/JPY', 'wiki_Bitcoin', 'wiki_Cryptocurrency', 'wiki_Coinbase'\n",
        "]]"
      ],
      "execution_count": null,
      "outputs": []
    },
    {
      "cell_type": "code",
      "metadata": {
        "id": "bR3anF0IlSH7"
      },
      "source": [
        "# PCA with 5 features\n",
        "X = data[['pc_1', 'pc_2', 'pc_3', 'pc_4', 'pc_5']]"
      ],
      "execution_count": null,
      "outputs": []
    },
    {
      "cell_type": "code",
      "metadata": {
        "id": "2V_v4KCsRZll"
      },
      "source": [
        "# # PCA with 7 features\n",
        "X = data[['pc_1', 'pc_2', 'pc_3', 'pc_4', 'pc_5','pc_6', 'pc_7']]"
      ],
      "execution_count": null,
      "outputs": []
    },
    {
      "cell_type": "code",
      "metadata": {
        "id": "PQ8WsfOZ0aoA"
      },
      "source": [
        "# make y as the 30 days future price\n",
        "y_true = data['f_price']\n",
        "\n",
        "# make y into 1 and 0. 1 means increase, 0 means decrease\n",
        "y_tl = data['class']"
      ],
      "execution_count": null,
      "outputs": []
    },
    {
      "cell_type": "markdown",
      "metadata": {
        "id": "tpxw6SFz2hGF"
      },
      "source": [
        "# Run SVM"
      ]
    },
    {
      "cell_type": "code",
      "metadata": {
        "id": "tpoMoPai2kFD"
      },
      "source": [
        "from sklearn.model_selection import train_test_split\n",
        "# splitting the data\n",
        "x_train, x_test, y_train, y_test = train_test_split(X, y_tl, test_size = 0.2, random_state =22)\n",
        "# x_train, x_test, y_train, y_test = train_test_split(X, y_tl, test_size = 0.2, shuffle=False)\n"
      ],
      "execution_count": null,
      "outputs": []
    },
    {
      "cell_type": "code",
      "metadata": {
        "colab": {
          "base_uri": "https://localhost:8080/"
        },
        "id": "x2CrKCe-2mbM",
        "outputId": "77e13957-9d8c-42f5-a5d6-d6e88cda5aac"
      },
      "source": [
        "# Try different kernels\n",
        "from sklearn import svm\n",
        "kernels = [ 'rbf', 'poly']\n",
        "for kernel in kernels:\n",
        "  svc = svm.SVC(kernel=kernel).fit(x_train, y_train)\n",
        "  score = svc.score(x_test, y_test)\n",
        "  print('kernels for', kernel, 'r2 socre is',score)"
      ],
      "execution_count": null,
      "outputs": [
        {
          "output_type": "stream",
          "name": "stdout",
          "text": [
            "kernels for rbf r2 socre is 0.8066914498141264\n",
            "kernels for poly r2 socre is 0.7546468401486989\n"
          ]
        }
      ]
    },
    {
      "cell_type": "code",
      "metadata": {
        "colab": {
          "base_uri": "https://localhost:8080/"
        },
        "id": "y2scUVO0EcIV",
        "outputId": "ff2246ac-aa8f-471d-f474-977fe70e4062"
      },
      "source": [
        "# Try different gamma for rbf\n",
        "gammas = [0.1, 1, 10, 100]\n",
        "for g in gammas:\n",
        "   svc = svm.SVC(kernel='rbf', gamma=g, C= 100).fit(x_train, y_train)\n",
        "   score = svc.score(x_test, y_test)\n",
        "   print('gamma ==', g, 'r2 socre is',score)"
      ],
      "execution_count": null,
      "outputs": [
        {
          "output_type": "stream",
          "name": "stdout",
          "text": [
            "gamma == 0.1 r2 socre is 0.8996282527881041\n",
            "gamma == 1 r2 socre is 0.9144981412639405\n",
            "gamma == 10 r2 socre is 0.8847583643122676\n",
            "gamma == 100 r2 socre is 0.7657992565055762\n"
          ]
        }
      ]
    },
    {
      "cell_type": "code",
      "metadata": {
        "colab": {
          "base_uri": "https://localhost:8080/"
        },
        "id": "bw6kYFvnFlUc",
        "outputId": "898742ae-ea3c-4554-81ee-3a0ad07b9b28"
      },
      "source": [
        "# Try different C\n",
        "cs = [0.001,0.01, 0.1, 1, 10, 100]\n",
        "for c in cs:\n",
        "   svc = svm.SVC(kernel='rbf', C=c).fit(x_train, y_train)\n",
        "   score = svc.score(x_test, y_test)\n",
        "   print('C ==', c, 'r2 socre is',score)"
      ],
      "execution_count": null,
      "outputs": [
        {
          "output_type": "stream",
          "name": "stdout",
          "text": [
            "C == 0.001 r2 socre is 0.6579925650557621\n",
            "C == 0.01 r2 socre is 0.6579925650557621\n",
            "C == 0.1 r2 socre is 0.7769516728624535\n",
            "C == 1 r2 socre is 0.8066914498141264\n",
            "C == 10 r2 socre is 0.8587360594795539\n",
            "C == 100 r2 socre is 0.8884758364312267\n"
          ]
        }
      ]
    },
    {
      "cell_type": "code",
      "metadata": {
        "colab": {
          "base_uri": "https://localhost:8080/"
        },
        "id": "QyDryCdJIxjr",
        "outputId": "26182093-5af7-4f75-a55e-e73447b7b301"
      },
      "source": [
        "# Try different degrees\n",
        "degrees = [0, 1, 2, 3, 4]\n",
        "for degree in degrees:\n",
        "   svc = svm.SVC(kernel='poly', degree=degree).fit(x_train, y_train)\n",
        "   score = svc.score(x_test, y_test)\n",
        "   print('degree ==', degree, 'r2 socre is',score)"
      ],
      "execution_count": null,
      "outputs": [
        {
          "output_type": "stream",
          "name": "stdout",
          "text": [
            "degree == 0 r2 socre is 0.6579925650557621\n",
            "degree == 1 r2 socre is 0.6691449814126395\n",
            "degree == 2 r2 socre is 0.6914498141263941\n",
            "degree == 3 r2 socre is 0.7546468401486989\n",
            "degree == 4 r2 socre is 0.724907063197026\n"
          ]
        }
      ]
    },
    {
      "cell_type": "code",
      "metadata": {
        "colab": {
          "base_uri": "https://localhost:8080/"
        },
        "id": "gQXEsILDXeK2",
        "outputId": "2e9291fe-ba1f-4f86-9f70-c52ed1c8ad3e"
      },
      "source": [
        "svc = svm.SVC(kernel='rbf', C=100, gamma = 1).fit(x_train, y_train)\n",
        "score = svc.score(x_test, y_test)\n",
        "print('C ==100, gamma == 1', 'r2 socre is',score)\n"
      ],
      "execution_count": null,
      "outputs": [
        {
          "output_type": "stream",
          "name": "stdout",
          "text": [
            "C ==100, gamma == 1 r2 socre is 0.9144981412639405\n"
          ]
        }
      ]
    },
    {
      "cell_type": "code",
      "metadata": {
        "colab": {
          "base_uri": "https://localhost:8080/"
        },
        "id": "Q4_MmE6N0CLZ",
        "outputId": "1a309786-9662-44ff-f658-ad76aabab4d2"
      },
      "source": [
        "# testing data\n",
        "y_p2 = svc.predict(x_test)\n",
        "y_p2"
      ],
      "execution_count": null,
      "outputs": [
        {
          "output_type": "execute_result",
          "data": {
            "text/plain": [
              "array([0, 0, 1, 1, 1, 1, 0, 1, 1, 0, 1, 1, 1, 1, 0, 0, 1, 1, 1, 1, 0, 1,\n",
              "       1, 1, 1, 1, 0, 0, 1, 0, 1, 0, 0, 1, 1, 1, 1, 0, 1, 1, 1, 1, 1, 0,\n",
              "       1, 1, 1, 0, 0, 1, 1, 1, 0, 1, 0, 1, 1, 0, 0, 1, 1, 0, 1, 1, 1, 1,\n",
              "       0, 0, 1, 0, 1, 0, 0, 0, 1, 1, 0, 0, 1, 0, 0, 1, 1, 1, 0, 0, 1, 0,\n",
              "       1, 1, 1, 1, 1, 1, 1, 1, 1, 1, 1, 1, 1, 0, 1, 1, 0, 0, 1, 1, 1, 1,\n",
              "       1, 1, 0, 1, 1, 1, 0, 0, 0, 1, 1, 0, 0, 0, 0, 1, 0, 0, 1, 0, 1, 1,\n",
              "       1, 1, 0, 0, 1, 0, 0, 1, 1, 1, 1, 1, 1, 1, 1, 1, 0, 1, 1, 1, 1, 0,\n",
              "       0, 0, 1, 1, 0, 1, 1, 1, 1, 1, 1, 1, 1, 0, 1, 0, 1, 1, 0, 1, 1, 1,\n",
              "       1, 0, 0, 1, 1, 0, 1, 0, 1, 0, 1, 1, 1, 0, 0, 0, 1, 0, 1, 1, 0, 1,\n",
              "       0, 0, 1, 1, 1, 1, 1, 0, 0, 1, 0, 0, 1, 0, 1, 0, 0, 0, 1, 1, 1, 0,\n",
              "       0, 0, 0, 1, 1, 1, 1, 1, 1, 1, 0, 0, 1, 1, 1, 0, 1, 1, 0, 1, 1, 1,\n",
              "       1, 0, 1, 1, 0, 1, 0, 1, 0, 1, 1, 1, 1, 1, 1, 1, 0, 1, 0, 1, 1, 0,\n",
              "       0, 0, 1, 0, 0])"
            ]
          },
          "metadata": {},
          "execution_count": 104
        }
      ]
    },
    {
      "cell_type": "code",
      "metadata": {
        "id": "haCKYDZ0IPWX"
      },
      "source": [
        "x_t = pca['2021-10-25':'2021-10-29'][['pc_1', 'pc_2', 'pc_3', 'pc_4', 'pc_5']]"
      ],
      "execution_count": null,
      "outputs": []
    },
    {
      "cell_type": "code",
      "metadata": {
        "id": "lm1dLcvfYHt0"
      },
      "source": [
        "# This week's data\n",
        "y_p2 = svc.predict(x_t)\n",
        "y_pp=pd.DataFrame(y_p2, index= x_t.index, columns= ['y_svm'])\n"
      ],
      "execution_count": null,
      "outputs": []
    },
    {
      "cell_type": "code",
      "metadata": {
        "colab": {
          "base_uri": "https://localhost:8080/",
          "height": 235
        },
        "id": "Tx8Erv2ELYJv",
        "outputId": "c6460acc-2362-441d-cfcb-e30f300dedbc"
      },
      "source": [
        "y_pp"
      ],
      "execution_count": null,
      "outputs": [
        {
          "output_type": "execute_result",
          "data": {
            "text/html": [
              "<div>\n",
              "<style scoped>\n",
              "    .dataframe tbody tr th:only-of-type {\n",
              "        vertical-align: middle;\n",
              "    }\n",
              "\n",
              "    .dataframe tbody tr th {\n",
              "        vertical-align: top;\n",
              "    }\n",
              "\n",
              "    .dataframe thead th {\n",
              "        text-align: right;\n",
              "    }\n",
              "</style>\n",
              "<table border=\"1\" class=\"dataframe\">\n",
              "  <thead>\n",
              "    <tr style=\"text-align: right;\">\n",
              "      <th></th>\n",
              "      <th>y_svm</th>\n",
              "    </tr>\n",
              "    <tr>\n",
              "      <th>DateTime</th>\n",
              "      <th></th>\n",
              "    </tr>\n",
              "  </thead>\n",
              "  <tbody>\n",
              "    <tr>\n",
              "      <th>2021-10-25</th>\n",
              "      <td>0</td>\n",
              "    </tr>\n",
              "    <tr>\n",
              "      <th>2021-10-26</th>\n",
              "      <td>0</td>\n",
              "    </tr>\n",
              "    <tr>\n",
              "      <th>2021-10-27</th>\n",
              "      <td>1</td>\n",
              "    </tr>\n",
              "    <tr>\n",
              "      <th>2021-10-28</th>\n",
              "      <td>1</td>\n",
              "    </tr>\n",
              "    <tr>\n",
              "      <th>2021-10-29</th>\n",
              "      <td>0</td>\n",
              "    </tr>\n",
              "  </tbody>\n",
              "</table>\n",
              "</div>"
            ],
            "text/plain": [
              "            y_svm\n",
              "DateTime         \n",
              "2021-10-25      0\n",
              "2021-10-26      0\n",
              "2021-10-27      1\n",
              "2021-10-28      1\n",
              "2021-10-29      0"
            ]
          },
          "metadata": {},
          "execution_count": 112
        }
      ]
    },
    {
      "cell_type": "markdown",
      "metadata": {
        "id": "BhwCcVHympWZ"
      },
      "source": [
        "# Neural Network"
      ]
    },
    {
      "cell_type": "code",
      "metadata": {
        "id": "-R8JOSJIm17e"
      },
      "source": [
        "# Import original data\n",
        "X = data[['high', 'low', 'open','close', 'volumeto', 'ETH', 'SP500', 'Russell_2000', 'Crude_oil', 'Gold', 'Silver', 'EUR/USD',\n",
        "          'Treasury Yield 10 Years', 'USD/JPY', 'wiki_Bitcoin', 'wiki_Cryptocurrency', 'wiki_Coinbase'\n",
        "]]\n",
        "y_tl = data['class']\n",
        "# shuffle 0.3420\n",
        "# non shuffle 0.2974"
      ],
      "execution_count": null,
      "outputs": []
    },
    {
      "cell_type": "code",
      "metadata": {
        "id": "9Sj3DlYrm20I"
      },
      "source": [
        "# Import 5 features pca data\n",
        "X = data[['pc_1', 'pc_2', 'pc_3', 'pc_4', 'pc_5']]\n",
        "y_tl = data['class']\n",
        "# shuffle 0.8587\n",
        "# non shuffle 0.3309"
      ],
      "execution_count": null,
      "outputs": []
    },
    {
      "cell_type": "code",
      "metadata": {
        "id": "cQND9KNcm7bs"
      },
      "source": [
        "# Import 7 features pca data\n",
        "X = data[['pc_1', 'pc_2', 'pc_3', 'pc_4', 'pc_5','pc_6', 'pc_7']]\n",
        "y_tl = data['class']\n",
        "# shuffle 0.7918\n",
        "# non shuffle 0.3271"
      ],
      "execution_count": null,
      "outputs": []
    },
    {
      "cell_type": "code",
      "metadata": {
        "id": "c69Q82mOmr6L"
      },
      "source": [
        "from sklearn.neural_network import MLPClassifier"
      ],
      "execution_count": null,
      "outputs": []
    },
    {
      "cell_type": "code",
      "metadata": {
        "id": "E3YBO9iOnAGJ"
      },
      "source": [
        "from sklearn.model_selection import train_test_split\n",
        "# splitting the data\n",
        "x_train, x_test, y_train, y_test = train_test_split(X, y_tl, test_size = 0.2, random_state =22)\n",
        "# x_train, x_test, y_train, y_test = train_test_split(X, y_tl, test_size = 0.2, shuffle=False)"
      ],
      "execution_count": null,
      "outputs": []
    },
    {
      "cell_type": "code",
      "metadata": {
        "colab": {
          "base_uri": "https://localhost:8080/"
        },
        "id": "wfFNdUItnAPm",
        "outputId": "4efd7640-813f-47f2-8091-205d45da31d4"
      },
      "source": [
        "clf = MLPClassifier(solver='lbfgs',activation='relu', alpha=1e-5,\n",
        "                    hidden_layer_sizes=(5, 2), random_state=1)\n",
        "clf.fit(x_train, y_train)"
      ],
      "execution_count": null,
      "outputs": [
        {
          "output_type": "stream",
          "name": "stderr",
          "text": [
            "/usr/local/lib/python3.7/dist-packages/sklearn/neural_network/_multilayer_perceptron.py:549: ConvergenceWarning: lbfgs failed to converge (status=1):\n",
            "STOP: TOTAL NO. of ITERATIONS REACHED LIMIT.\n",
            "\n",
            "Increase the number of iterations (max_iter) or scale the data as shown in:\n",
            "    https://scikit-learn.org/stable/modules/preprocessing.html\n",
            "  self.n_iter_ = _check_optimize_result(\"lbfgs\", opt_res, self.max_iter)\n"
          ]
        },
        {
          "output_type": "execute_result",
          "data": {
            "text/plain": [
              "MLPClassifier(alpha=1e-05, hidden_layer_sizes=(5, 2), random_state=1,\n",
              "              solver='lbfgs')"
            ]
          },
          "metadata": {},
          "execution_count": 25
        }
      ]
    },
    {
      "cell_type": "code",
      "metadata": {
        "colab": {
          "base_uri": "https://localhost:8080/"
        },
        "id": "5NhwmD7znV5a",
        "outputId": "4944642c-c34c-4c34-9609-550843bdd089"
      },
      "source": [
        "# testing data\n",
        "y_p3 = clf.predict(x_test)\n",
        "y_p3"
      ],
      "execution_count": null,
      "outputs": [
        {
          "output_type": "execute_result",
          "data": {
            "text/plain": [
              "array([1, 0, 1, 1, 1, 1, 0, 1, 1, 1, 1, 1, 1, 1, 0, 1, 1, 1, 1, 1, 0, 1,\n",
              "       1, 1, 1, 1, 0, 0, 1, 0, 1, 0, 0, 1, 1, 1, 1, 0, 1, 1, 1, 1, 1, 0,\n",
              "       1, 1, 1, 0, 0, 1, 1, 1, 0, 1, 0, 1, 1, 0, 0, 1, 1, 0, 1, 1, 1, 1,\n",
              "       0, 0, 0, 1, 1, 1, 0, 0, 1, 1, 1, 1, 1, 0, 0, 1, 1, 1, 0, 1, 1, 1,\n",
              "       1, 1, 1, 1, 1, 1, 1, 1, 1, 1, 1, 1, 1, 1, 1, 1, 0, 0, 1, 1, 1, 1,\n",
              "       1, 1, 1, 0, 1, 1, 1, 1, 0, 1, 1, 1, 0, 0, 0, 1, 0, 0, 1, 0, 1, 1,\n",
              "       1, 1, 1, 0, 1, 1, 1, 1, 1, 1, 1, 1, 1, 1, 1, 1, 1, 1, 1, 1, 1, 0,\n",
              "       0, 1, 1, 1, 0, 0, 1, 1, 1, 1, 1, 1, 1, 0, 1, 1, 1, 1, 1, 1, 1, 1,\n",
              "       1, 0, 0, 1, 1, 1, 1, 0, 1, 0, 1, 1, 1, 0, 1, 0, 1, 0, 0, 1, 1, 1,\n",
              "       0, 0, 1, 1, 1, 1, 1, 0, 0, 1, 0, 1, 1, 0, 1, 0, 0, 0, 1, 1, 1, 0,\n",
              "       1, 0, 1, 1, 1, 1, 1, 1, 1, 1, 1, 1, 1, 1, 1, 0, 1, 1, 0, 0, 1, 1,\n",
              "       1, 1, 1, 0, 0, 1, 0, 0, 0, 1, 1, 1, 1, 1, 1, 1, 1, 1, 0, 1, 1, 1,\n",
              "       0, 0, 1, 1, 1])"
            ]
          },
          "metadata": {},
          "execution_count": 100
        }
      ]
    },
    {
      "cell_type": "code",
      "metadata": {
        "colab": {
          "base_uri": "https://localhost:8080/"
        },
        "id": "5lXrbmQingGu",
        "outputId": "03dd909d-d1c0-4f17-c1fd-66e4c3667a3a"
      },
      "source": [
        "score = clf.score(x_test, y_test)\n",
        "score"
      ],
      "execution_count": null,
      "outputs": [
        {
          "output_type": "execute_result",
          "data": {
            "text/plain": [
              "0.8587360594795539"
            ]
          },
          "metadata": {},
          "execution_count": 26
        }
      ]
    },
    {
      "cell_type": "code",
      "metadata": {
        "colab": {
          "base_uri": "https://localhost:8080/",
          "height": 235
        },
        "id": "fxDMstGYo2GU",
        "outputId": "1553399a-e95a-45ef-f554-97b06cf5315c"
      },
      "source": [
        "# This week's data\n",
        "# x_t = pca['2021-10-18':'2021-10-22'][['pc_1', 'pc_2', 'pc_3', 'pc_4', 'pc_5']]\n",
        "y_p3 = clf.predict(x_t)\n",
        "# y_pp=pd.DataFrame(y_p, index= x_t.index)\n",
        "y_pp['y_nn'] = y_p3\n",
        "y_pp"
      ],
      "execution_count": null,
      "outputs": [
        {
          "output_type": "execute_result",
          "data": {
            "text/html": [
              "<div>\n",
              "<style scoped>\n",
              "    .dataframe tbody tr th:only-of-type {\n",
              "        vertical-align: middle;\n",
              "    }\n",
              "\n",
              "    .dataframe tbody tr th {\n",
              "        vertical-align: top;\n",
              "    }\n",
              "\n",
              "    .dataframe thead th {\n",
              "        text-align: right;\n",
              "    }\n",
              "</style>\n",
              "<table border=\"1\" class=\"dataframe\">\n",
              "  <thead>\n",
              "    <tr style=\"text-align: right;\">\n",
              "      <th></th>\n",
              "      <th>y_svm</th>\n",
              "      <th>y_nn</th>\n",
              "    </tr>\n",
              "    <tr>\n",
              "      <th>DateTime</th>\n",
              "      <th></th>\n",
              "      <th></th>\n",
              "    </tr>\n",
              "  </thead>\n",
              "  <tbody>\n",
              "    <tr>\n",
              "      <th>2021-10-25</th>\n",
              "      <td>0</td>\n",
              "      <td>0</td>\n",
              "    </tr>\n",
              "    <tr>\n",
              "      <th>2021-10-26</th>\n",
              "      <td>0</td>\n",
              "      <td>0</td>\n",
              "    </tr>\n",
              "    <tr>\n",
              "      <th>2021-10-27</th>\n",
              "      <td>1</td>\n",
              "      <td>0</td>\n",
              "    </tr>\n",
              "    <tr>\n",
              "      <th>2021-10-28</th>\n",
              "      <td>1</td>\n",
              "      <td>1</td>\n",
              "    </tr>\n",
              "    <tr>\n",
              "      <th>2021-10-29</th>\n",
              "      <td>0</td>\n",
              "      <td>0</td>\n",
              "    </tr>\n",
              "  </tbody>\n",
              "</table>\n",
              "</div>"
            ],
            "text/plain": [
              "            y_svm  y_nn\n",
              "DateTime               \n",
              "2021-10-25      0     0\n",
              "2021-10-26      0     0\n",
              "2021-10-27      1     0\n",
              "2021-10-28      1     1\n",
              "2021-10-29      0     0"
            ]
          },
          "metadata": {},
          "execution_count": 113
        }
      ]
    },
    {
      "cell_type": "markdown",
      "metadata": {
        "id": "sIUEfyMI_Ell"
      },
      "source": [
        "# Decision Tree"
      ]
    },
    {
      "cell_type": "code",
      "metadata": {
        "id": "1JzoaXY5_H0e"
      },
      "source": [
        "# Import original data\n",
        "X = data[['high', 'low', 'open','close', 'volumeto', 'ETH', 'SP500', 'Russell_2000', 'Crude_oil', 'Gold', 'Silver', 'EUR/USD',\n",
        "          'Treasury Yield 10 Years', 'USD/JPY', 'wiki_Bitcoin', 'wiki_Cryptocurrency', 'wiki_Coinbase'\n",
        "]]\n",
        "y_tl = data['class']"
      ],
      "execution_count": null,
      "outputs": []
    },
    {
      "cell_type": "code",
      "metadata": {
        "id": "u8cJbQ4u_K8P"
      },
      "source": [
        "# Import 5 features pca data\n",
        "X = data[['pc_1', 'pc_2', 'pc_3', 'pc_4', 'pc_5']]\n",
        "y_tl = data['class']"
      ],
      "execution_count": null,
      "outputs": []
    },
    {
      "cell_type": "code",
      "metadata": {
        "id": "TUFXIz-4_O82"
      },
      "source": [
        "# Import 7 features pca data\n",
        "X = data[['pc_1', 'pc_2', 'pc_3', 'pc_4', 'pc_5','pc_6', 'pc_7']]\n",
        "y_tl = data['class']"
      ],
      "execution_count": null,
      "outputs": []
    },
    {
      "cell_type": "code",
      "metadata": {
        "id": "bF7yE7tc_S66"
      },
      "source": [
        "from sklearn.model_selection import train_test_split\n",
        "# splitting the data\n",
        "x_train, x_test, y_train, y_test = train_test_split(X, y_tl, test_size = 0.2, random_state =22)\n",
        "# x_train, x_test, y_train, y_test = train_test_split(X, y_tl, test_size = 0.2, shuffle=False)"
      ],
      "execution_count": null,
      "outputs": []
    },
    {
      "cell_type": "code",
      "metadata": {
        "id": "nSmycoKx_TsS"
      },
      "source": [
        "depth_list=list(range(1,11))\n",
        "a_score=[]\n",
        "print(depth_list)"
      ],
      "execution_count": null,
      "outputs": []
    },
    {
      "cell_type": "code",
      "metadata": {
        "id": "BYurUlCn_ds6"
      },
      "source": [
        "from sklearn.tree import DecisionTreeClassifier\n",
        "from sklearn.metrics import accuracy_score, f1_score, precision_score\n",
        "import matplotlib.pyplot as plt\n",
        "from sklearn import tree\n",
        "import graphviz"
      ],
      "execution_count": null,
      "outputs": []
    },
    {
      "cell_type": "code",
      "metadata": {
        "id": "PNr7uQRK_yRB"
      },
      "source": [
        "for i in depth_list:\n",
        "  treeClassifier=DecisionTreeClassifier(max_depth=i,min_samples_leaf=6)\n",
        "  treeClassifier.fit(x_train,y_train)\n",
        "  y_pred=treeClassifier.predict(x_test)\n",
        "  a_score.append(accuracy_score(y_test, y_pred))"
      ],
      "execution_count": null,
      "outputs": []
    },
    {
      "cell_type": "code",
      "metadata": {
        "id": "56u-lJaKAPcR"
      },
      "source": [
        "plt.plot(depth_list,a_score)\n",
        "plt.show"
      ],
      "execution_count": null,
      "outputs": []
    },
    {
      "cell_type": "code",
      "metadata": {
        "id": "ASAdnd0iAWPr"
      },
      "source": [
        "a_score"
      ],
      "execution_count": null,
      "outputs": []
    },
    {
      "cell_type": "code",
      "metadata": {
        "id": "U65ICkw-AZT2"
      },
      "source": [
        "#when i =8 , the accuracy is the hightes so far, \n",
        "treeClassifier2=DecisionTreeClassifier(max_depth=8,min_samples_leaf=6)\n",
        "treeClassifier2.fit(x_train,y_train)\n",
        "y_p1 = treeClassifier2.predict(x_test)\n",
        "y_p1\n",
        "# y_pred2=treeClassifier2.predict(x_test)\n",
        "# print((accuracy_score(y_test, y_pred2)))\n",
        "# print(f1_score(y_test, y_pred2))\n",
        "# print(precision_score(y_test, y_pred2))"
      ],
      "execution_count": null,
      "outputs": []
    },
    {
      "cell_type": "code",
      "metadata": {
        "id": "dGGaiJ47JXIf"
      },
      "source": [
        "# This week's data\n",
        "y_p1 = treeClassifier2.predict(x_t)\n",
        "y_pp['y_dt'] = y_p1\n",
        "y_pp"
      ],
      "execution_count": null,
      "outputs": []
    },
    {
      "cell_type": "code",
      "metadata": {
        "id": "UYtZ3G3pAx87"
      },
      "source": [
        "treedata=tree.export_graphviz(treeClassifier2,filled=True, feature_names=['f1','f2','f3', 'f4', 'f5'],class_names=['0','1'])"
      ],
      "execution_count": null,
      "outputs": []
    },
    {
      "cell_type": "code",
      "metadata": {
        "id": "BTM6rB26Ayq9"
      },
      "source": [
        "graphviz.Source(treedata)"
      ],
      "execution_count": null,
      "outputs": []
    },
    {
      "cell_type": "code",
      "metadata": {
        "id": "nTXJHgRGBSOo"
      },
      "source": [
        "def dot_to_img(dot, file = 'decisiontreepca.png'):\n",
        "    import os\n",
        "\n",
        "    name, ext = os.path.splitext(file)\n",
        "\n",
        "    graph = graphviz.Source(dot)\n",
        "    graph.format = ext[1:]\n",
        "    graph.view(name, cleanup = True) "
      ],
      "execution_count": null,
      "outputs": []
    },
    {
      "cell_type": "code",
      "metadata": {
        "id": "MnWpqrhSBVM1"
      },
      "source": [
        "from google.colab import drive\n",
        "drive.mount('/content/gdrive')"
      ],
      "execution_count": null,
      "outputs": []
    },
    {
      "cell_type": "code",
      "metadata": {
        "id": "VeoQ6DEVBbZc"
      },
      "source": [
        "dot_to_img(treedata,file = '/content/gdrive/My Drive/decisiontreepca.png')"
      ],
      "execution_count": null,
      "outputs": []
    },
    {
      "cell_type": "markdown",
      "metadata": {
        "id": "UH-BUgJgLelk"
      },
      "source": [
        "# Check the result accuracy with our voting system\n",
        "After we get the predict future return, we then calculate the difference between the original price and the returns to see whether the BTC price increases or decreases in 30 days."
      ]
    },
    {
      "cell_type": "code",
      "metadata": {
        "colab": {
          "base_uri": "https://localhost:8080/",
          "height": 450
        },
        "id": "_5Ln9DaVLell",
        "outputId": "856b9f85-baf4-4548-d853-eed71e5a7248"
      },
      "source": [
        "tmp = pd.DataFrame(y_test)\n",
        "tmp"
      ],
      "execution_count": null,
      "outputs": [
        {
          "output_type": "execute_result",
          "data": {
            "text/html": [
              "<div>\n",
              "<style scoped>\n",
              "    .dataframe tbody tr th:only-of-type {\n",
              "        vertical-align: middle;\n",
              "    }\n",
              "\n",
              "    .dataframe tbody tr th {\n",
              "        vertical-align: top;\n",
              "    }\n",
              "\n",
              "    .dataframe thead th {\n",
              "        text-align: right;\n",
              "    }\n",
              "</style>\n",
              "<table border=\"1\" class=\"dataframe\">\n",
              "  <thead>\n",
              "    <tr style=\"text-align: right;\">\n",
              "      <th></th>\n",
              "      <th>class</th>\n",
              "    </tr>\n",
              "    <tr>\n",
              "      <th>DateTime</th>\n",
              "      <th></th>\n",
              "    </tr>\n",
              "  </thead>\n",
              "  <tbody>\n",
              "    <tr>\n",
              "      <th>2018-12-20</th>\n",
              "      <td>0</td>\n",
              "    </tr>\n",
              "    <tr>\n",
              "      <th>2018-10-03</th>\n",
              "      <td>0</td>\n",
              "    </tr>\n",
              "    <tr>\n",
              "      <th>2017-05-26</th>\n",
              "      <td>1</td>\n",
              "    </tr>\n",
              "    <tr>\n",
              "      <th>2020-12-28</th>\n",
              "      <td>1</td>\n",
              "    </tr>\n",
              "    <tr>\n",
              "      <th>2020-10-22</th>\n",
              "      <td>1</td>\n",
              "    </tr>\n",
              "    <tr>\n",
              "      <th>...</th>\n",
              "      <td>...</td>\n",
              "    </tr>\n",
              "    <tr>\n",
              "      <th>2018-10-02</th>\n",
              "      <td>0</td>\n",
              "    </tr>\n",
              "    <tr>\n",
              "      <th>2019-09-27</th>\n",
              "      <td>1</td>\n",
              "    </tr>\n",
              "    <tr>\n",
              "      <th>2020-01-03</th>\n",
              "      <td>1</td>\n",
              "    </tr>\n",
              "    <tr>\n",
              "      <th>2020-08-13</th>\n",
              "      <td>0</td>\n",
              "    </tr>\n",
              "    <tr>\n",
              "      <th>2018-11-27</th>\n",
              "      <td>0</td>\n",
              "    </tr>\n",
              "  </tbody>\n",
              "</table>\n",
              "<p>269 rows × 1 columns</p>\n",
              "</div>"
            ],
            "text/plain": [
              "            class\n",
              "DateTime         \n",
              "2018-12-20      0\n",
              "2018-10-03      0\n",
              "2017-05-26      1\n",
              "2020-12-28      1\n",
              "2020-10-22      1\n",
              "...           ...\n",
              "2018-10-02      0\n",
              "2019-09-27      1\n",
              "2020-01-03      1\n",
              "2020-08-13      0\n",
              "2018-11-27      0\n",
              "\n",
              "[269 rows x 1 columns]"
            ]
          },
          "metadata": {},
          "execution_count": 107
        }
      ]
    },
    {
      "cell_type": "code",
      "metadata": {
        "id": "bw6UFKzsLell"
      },
      "source": [
        "tmp['y_dt'] = y_p1\n",
        "tmp.head()"
      ],
      "execution_count": null,
      "outputs": []
    },
    {
      "cell_type": "code",
      "metadata": {
        "colab": {
          "base_uri": "https://localhost:8080/",
          "height": 235
        },
        "id": "S-kEpbOo0qh2",
        "outputId": "9ba0163b-297c-467c-89cb-f074f71d7686"
      },
      "source": [
        "tmp['y_svm'] = y_p2\n",
        "tmp.head()"
      ],
      "execution_count": null,
      "outputs": [
        {
          "output_type": "execute_result",
          "data": {
            "text/html": [
              "<div>\n",
              "<style scoped>\n",
              "    .dataframe tbody tr th:only-of-type {\n",
              "        vertical-align: middle;\n",
              "    }\n",
              "\n",
              "    .dataframe tbody tr th {\n",
              "        vertical-align: top;\n",
              "    }\n",
              "\n",
              "    .dataframe thead th {\n",
              "        text-align: right;\n",
              "    }\n",
              "</style>\n",
              "<table border=\"1\" class=\"dataframe\">\n",
              "  <thead>\n",
              "    <tr style=\"text-align: right;\">\n",
              "      <th></th>\n",
              "      <th>class</th>\n",
              "      <th>y_dt</th>\n",
              "      <th>y_svm</th>\n",
              "    </tr>\n",
              "    <tr>\n",
              "      <th>DateTime</th>\n",
              "      <th></th>\n",
              "      <th></th>\n",
              "      <th></th>\n",
              "    </tr>\n",
              "  </thead>\n",
              "  <tbody>\n",
              "    <tr>\n",
              "      <th>2018-12-20</th>\n",
              "      <td>0</td>\n",
              "      <td>0</td>\n",
              "      <td>0</td>\n",
              "    </tr>\n",
              "    <tr>\n",
              "      <th>2018-10-03</th>\n",
              "      <td>0</td>\n",
              "      <td>0</td>\n",
              "      <td>0</td>\n",
              "    </tr>\n",
              "    <tr>\n",
              "      <th>2017-05-26</th>\n",
              "      <td>1</td>\n",
              "      <td>1</td>\n",
              "      <td>1</td>\n",
              "    </tr>\n",
              "    <tr>\n",
              "      <th>2020-12-28</th>\n",
              "      <td>1</td>\n",
              "      <td>1</td>\n",
              "      <td>1</td>\n",
              "    </tr>\n",
              "    <tr>\n",
              "      <th>2020-10-22</th>\n",
              "      <td>1</td>\n",
              "      <td>1</td>\n",
              "      <td>1</td>\n",
              "    </tr>\n",
              "  </tbody>\n",
              "</table>\n",
              "</div>"
            ],
            "text/plain": [
              "            class  y_dt  y_svm\n",
              "DateTime                      \n",
              "2018-12-20      0     0      0\n",
              "2018-10-03      0     0      0\n",
              "2017-05-26      1     1      1\n",
              "2020-12-28      1     1      1\n",
              "2020-10-22      1     1      1"
            ]
          },
          "metadata": {},
          "execution_count": 109
        }
      ]
    },
    {
      "cell_type": "code",
      "metadata": {
        "colab": {
          "base_uri": "https://localhost:8080/",
          "height": 235
        },
        "id": "gsDeXBc20yqB",
        "outputId": "0a1d3df9-22f6-4e3c-9c76-41cf4044a8d6"
      },
      "source": [
        "tmp['y_nn'] = y_p3\n",
        "tmp.head()"
      ],
      "execution_count": null,
      "outputs": [
        {
          "output_type": "execute_result",
          "data": {
            "text/html": [
              "<div>\n",
              "<style scoped>\n",
              "    .dataframe tbody tr th:only-of-type {\n",
              "        vertical-align: middle;\n",
              "    }\n",
              "\n",
              "    .dataframe tbody tr th {\n",
              "        vertical-align: top;\n",
              "    }\n",
              "\n",
              "    .dataframe thead th {\n",
              "        text-align: right;\n",
              "    }\n",
              "</style>\n",
              "<table border=\"1\" class=\"dataframe\">\n",
              "  <thead>\n",
              "    <tr style=\"text-align: right;\">\n",
              "      <th></th>\n",
              "      <th>class</th>\n",
              "      <th>y_dt</th>\n",
              "      <th>y_svm</th>\n",
              "      <th>y_nn</th>\n",
              "    </tr>\n",
              "    <tr>\n",
              "      <th>DateTime</th>\n",
              "      <th></th>\n",
              "      <th></th>\n",
              "      <th></th>\n",
              "      <th></th>\n",
              "    </tr>\n",
              "  </thead>\n",
              "  <tbody>\n",
              "    <tr>\n",
              "      <th>2018-12-20</th>\n",
              "      <td>0</td>\n",
              "      <td>0</td>\n",
              "      <td>0</td>\n",
              "      <td>1</td>\n",
              "    </tr>\n",
              "    <tr>\n",
              "      <th>2018-10-03</th>\n",
              "      <td>0</td>\n",
              "      <td>0</td>\n",
              "      <td>0</td>\n",
              "      <td>0</td>\n",
              "    </tr>\n",
              "    <tr>\n",
              "      <th>2017-05-26</th>\n",
              "      <td>1</td>\n",
              "      <td>1</td>\n",
              "      <td>1</td>\n",
              "      <td>1</td>\n",
              "    </tr>\n",
              "    <tr>\n",
              "      <th>2020-12-28</th>\n",
              "      <td>1</td>\n",
              "      <td>1</td>\n",
              "      <td>1</td>\n",
              "      <td>1</td>\n",
              "    </tr>\n",
              "    <tr>\n",
              "      <th>2020-10-22</th>\n",
              "      <td>1</td>\n",
              "      <td>1</td>\n",
              "      <td>1</td>\n",
              "      <td>1</td>\n",
              "    </tr>\n",
              "  </tbody>\n",
              "</table>\n",
              "</div>"
            ],
            "text/plain": [
              "            class  y_dt  y_svm  y_nn\n",
              "DateTime                            \n",
              "2018-12-20      0     0      0     1\n",
              "2018-10-03      0     0      0     0\n",
              "2017-05-26      1     1      1     1\n",
              "2020-12-28      1     1      1     1\n",
              "2020-10-22      1     1      1     1"
            ]
          },
          "metadata": {},
          "execution_count": 110
        }
      ]
    },
    {
      "cell_type": "code",
      "metadata": {
        "colab": {
          "base_uri": "https://localhost:8080/",
          "height": 235
        },
        "id": "z7anrQAY1CT_",
        "outputId": "3ec1aa27-7e75-4e8e-c5dc-c297a718eb06"
      },
      "source": [
        "tmp['y_sum'] = tmp['y_dt'] + tmp['y_svm'] + tmp['y_nn']\n",
        "tmp['y_pre'] = np.where(tmp['y_sum']>=2,1,0)\n",
        "tmp.head()"
      ],
      "execution_count": null,
      "outputs": [
        {
          "output_type": "execute_result",
          "data": {
            "text/html": [
              "<div>\n",
              "<style scoped>\n",
              "    .dataframe tbody tr th:only-of-type {\n",
              "        vertical-align: middle;\n",
              "    }\n",
              "\n",
              "    .dataframe tbody tr th {\n",
              "        vertical-align: top;\n",
              "    }\n",
              "\n",
              "    .dataframe thead th {\n",
              "        text-align: right;\n",
              "    }\n",
              "</style>\n",
              "<table border=\"1\" class=\"dataframe\">\n",
              "  <thead>\n",
              "    <tr style=\"text-align: right;\">\n",
              "      <th></th>\n",
              "      <th>class</th>\n",
              "      <th>y_dt</th>\n",
              "      <th>y_svm</th>\n",
              "      <th>y_nn</th>\n",
              "      <th>y_sum</th>\n",
              "      <th>y_pre</th>\n",
              "    </tr>\n",
              "    <tr>\n",
              "      <th>DateTime</th>\n",
              "      <th></th>\n",
              "      <th></th>\n",
              "      <th></th>\n",
              "      <th></th>\n",
              "      <th></th>\n",
              "      <th></th>\n",
              "    </tr>\n",
              "  </thead>\n",
              "  <tbody>\n",
              "    <tr>\n",
              "      <th>2018-12-20</th>\n",
              "      <td>0</td>\n",
              "      <td>0</td>\n",
              "      <td>0</td>\n",
              "      <td>1</td>\n",
              "      <td>1</td>\n",
              "      <td>0</td>\n",
              "    </tr>\n",
              "    <tr>\n",
              "      <th>2018-10-03</th>\n",
              "      <td>0</td>\n",
              "      <td>0</td>\n",
              "      <td>0</td>\n",
              "      <td>0</td>\n",
              "      <td>0</td>\n",
              "      <td>0</td>\n",
              "    </tr>\n",
              "    <tr>\n",
              "      <th>2017-05-26</th>\n",
              "      <td>1</td>\n",
              "      <td>1</td>\n",
              "      <td>1</td>\n",
              "      <td>1</td>\n",
              "      <td>3</td>\n",
              "      <td>1</td>\n",
              "    </tr>\n",
              "    <tr>\n",
              "      <th>2020-12-28</th>\n",
              "      <td>1</td>\n",
              "      <td>1</td>\n",
              "      <td>1</td>\n",
              "      <td>1</td>\n",
              "      <td>3</td>\n",
              "      <td>1</td>\n",
              "    </tr>\n",
              "    <tr>\n",
              "      <th>2020-10-22</th>\n",
              "      <td>1</td>\n",
              "      <td>1</td>\n",
              "      <td>1</td>\n",
              "      <td>1</td>\n",
              "      <td>3</td>\n",
              "      <td>1</td>\n",
              "    </tr>\n",
              "  </tbody>\n",
              "</table>\n",
              "</div>"
            ],
            "text/plain": [
              "            class  y_dt  y_svm  y_nn  y_sum  y_pre\n",
              "DateTime                                          \n",
              "2018-12-20      0     0      0     1      1      0\n",
              "2018-10-03      0     0      0     0      0      0\n",
              "2017-05-26      1     1      1     1      3      1\n",
              "2020-12-28      1     1      1     1      3      1\n",
              "2020-10-22      1     1      1     1      3      1"
            ]
          },
          "metadata": {},
          "execution_count": 126
        }
      ]
    },
    {
      "cell_type": "code",
      "metadata": {
        "colab": {
          "base_uri": "https://localhost:8080/"
        },
        "id": "q-KhjS_f2eR0",
        "outputId": "763f4b82-3092-401f-a564-51e1ee22dde4"
      },
      "source": [
        "print( round(1 - sum(abs(tmp['y_pre'] - tmp['class']))/ tmp.shape[0], 4)*100, '%')"
      ],
      "execution_count": null,
      "outputs": [
        {
          "output_type": "stream",
          "name": "stdout",
          "text": [
            "92.57 %\n"
          ]
        }
      ]
    },
    {
      "cell_type": "markdown",
      "metadata": {
        "id": "plneO2UYJuIt"
      },
      "source": [
        "# Check Accuracy for this week"
      ]
    },
    {
      "cell_type": "code",
      "metadata": {
        "id": "ixmuJDkLMGzo"
      },
      "source": [
        "import pandas as pd\n",
        "# Download Bitcoin Trading data\n",
        "import json\n",
        "import requests\n",
        "\n",
        "endpoint = 'https://min-api.cryptocompare.com/data/histoday'\n",
        "res = requests.get(endpoint + '?fsym=BTC&tsym=USD&limit=2000')\n",
        "BTC = pd.DataFrame(json.loads(res.content)['Data'])\n",
        "\n",
        "# Use time as index\n",
        "BTC = BTC.set_index('time')\n",
        "BTC.index = pd.to_datetime(BTC.index, unit='s')\n",
        "BTC = BTC[['close']]"
      ],
      "execution_count": null,
      "outputs": []
    },
    {
      "cell_type": "code",
      "metadata": {
        "id": "P6qW6eT1MiAA"
      },
      "source": [
        "true_price = BTC.tail()"
      ],
      "execution_count": null,
      "outputs": []
    },
    {
      "cell_type": "code",
      "metadata": {
        "colab": {
          "base_uri": "https://localhost:8080/",
          "height": 235
        },
        "id": "ftrJioNnOAdr",
        "outputId": "678c3f60-5adb-476e-e901-93ebfb9d23ab"
      },
      "source": [
        "true_price"
      ],
      "execution_count": null,
      "outputs": [
        {
          "output_type": "execute_result",
          "data": {
            "text/html": [
              "<div>\n",
              "<style scoped>\n",
              "    .dataframe tbody tr th:only-of-type {\n",
              "        vertical-align: middle;\n",
              "    }\n",
              "\n",
              "    .dataframe tbody tr th {\n",
              "        vertical-align: top;\n",
              "    }\n",
              "\n",
              "    .dataframe thead th {\n",
              "        text-align: right;\n",
              "    }\n",
              "</style>\n",
              "<table border=\"1\" class=\"dataframe\">\n",
              "  <thead>\n",
              "    <tr style=\"text-align: right;\">\n",
              "      <th></th>\n",
              "      <th>close</th>\n",
              "    </tr>\n",
              "    <tr>\n",
              "      <th>time</th>\n",
              "      <th></th>\n",
              "    </tr>\n",
              "  </thead>\n",
              "  <tbody>\n",
              "    <tr>\n",
              "      <th>2021-12-06</th>\n",
              "      <td>50552.83</td>\n",
              "    </tr>\n",
              "    <tr>\n",
              "      <th>2021-12-07</th>\n",
              "      <td>50633.01</td>\n",
              "    </tr>\n",
              "    <tr>\n",
              "      <th>2021-12-08</th>\n",
              "      <td>50513.04</td>\n",
              "    </tr>\n",
              "    <tr>\n",
              "      <th>2021-12-09</th>\n",
              "      <td>47593.85</td>\n",
              "    </tr>\n",
              "    <tr>\n",
              "      <th>2021-12-10</th>\n",
              "      <td>47425.62</td>\n",
              "    </tr>\n",
              "  </tbody>\n",
              "</table>\n",
              "</div>"
            ],
            "text/plain": [
              "               close\n",
              "time                \n",
              "2021-12-06  50552.83\n",
              "2021-12-07  50633.01\n",
              "2021-12-08  50513.04\n",
              "2021-12-09  47593.85\n",
              "2021-12-10  47425.62"
            ]
          },
          "metadata": {},
          "execution_count": 66
        }
      ]
    },
    {
      "cell_type": "code",
      "metadata": {
        "colab": {
          "base_uri": "https://localhost:8080/"
        },
        "id": "pu6ARm8EOGJ4",
        "outputId": "d671612e-0d8e-4055-975f-05cd06b7b8c1"
      },
      "source": [
        "ndata = pd.read_csv('data.csv')\n",
        "ndata = ndata.set_index('DateTime')\n",
        "ndata.tail()\n",
        "price_1mon_early= ndata['2021-10-25':'2021-10-29'][['close']]\n",
        "p = price_1mon_early.iloc[:,0].values\n",
        "p"
      ],
      "execution_count": null,
      "outputs": [
        {
          "output_type": "execute_result",
          "data": {
            "text/plain": [
              "array([63089.04, 60315.68, 58464.42, 60610.11, 62282.5 ])"
            ]
          },
          "metadata": {},
          "execution_count": 92
        }
      ]
    },
    {
      "cell_type": "code",
      "metadata": {
        "colab": {
          "base_uri": "https://localhost:8080/",
          "height": 337
        },
        "id": "oHwb8CAbPFGF",
        "outputId": "3de0a0ac-b207-445d-b886-2c506e6a2980"
      },
      "source": [
        "true_price['30daysbefore'] = p\n",
        "true_price"
      ],
      "execution_count": null,
      "outputs": [
        {
          "output_type": "stream",
          "name": "stderr",
          "text": [
            "/usr/local/lib/python3.7/dist-packages/ipykernel_launcher.py:1: SettingWithCopyWarning: \n",
            "A value is trying to be set on a copy of a slice from a DataFrame.\n",
            "Try using .loc[row_indexer,col_indexer] = value instead\n",
            "\n",
            "See the caveats in the documentation: https://pandas.pydata.org/pandas-docs/stable/user_guide/indexing.html#returning-a-view-versus-a-copy\n",
            "  \"\"\"Entry point for launching an IPython kernel.\n"
          ]
        },
        {
          "output_type": "execute_result",
          "data": {
            "text/html": [
              "<div>\n",
              "<style scoped>\n",
              "    .dataframe tbody tr th:only-of-type {\n",
              "        vertical-align: middle;\n",
              "    }\n",
              "\n",
              "    .dataframe tbody tr th {\n",
              "        vertical-align: top;\n",
              "    }\n",
              "\n",
              "    .dataframe thead th {\n",
              "        text-align: right;\n",
              "    }\n",
              "</style>\n",
              "<table border=\"1\" class=\"dataframe\">\n",
              "  <thead>\n",
              "    <tr style=\"text-align: right;\">\n",
              "      <th></th>\n",
              "      <th>close</th>\n",
              "      <th>30daysbefore</th>\n",
              "    </tr>\n",
              "    <tr>\n",
              "      <th>time</th>\n",
              "      <th></th>\n",
              "      <th></th>\n",
              "    </tr>\n",
              "  </thead>\n",
              "  <tbody>\n",
              "    <tr>\n",
              "      <th>2021-12-06</th>\n",
              "      <td>50552.83</td>\n",
              "      <td>63089.04</td>\n",
              "    </tr>\n",
              "    <tr>\n",
              "      <th>2021-12-07</th>\n",
              "      <td>50633.01</td>\n",
              "      <td>60315.68</td>\n",
              "    </tr>\n",
              "    <tr>\n",
              "      <th>2021-12-08</th>\n",
              "      <td>50513.04</td>\n",
              "      <td>58464.42</td>\n",
              "    </tr>\n",
              "    <tr>\n",
              "      <th>2021-12-09</th>\n",
              "      <td>47593.85</td>\n",
              "      <td>60610.11</td>\n",
              "    </tr>\n",
              "    <tr>\n",
              "      <th>2021-12-10</th>\n",
              "      <td>47425.62</td>\n",
              "      <td>62282.50</td>\n",
              "    </tr>\n",
              "  </tbody>\n",
              "</table>\n",
              "</div>"
            ],
            "text/plain": [
              "               close  30daysbefore\n",
              "time                              \n",
              "2021-12-06  50552.83      63089.04\n",
              "2021-12-07  50633.01      60315.68\n",
              "2021-12-08  50513.04      58464.42\n",
              "2021-12-09  47593.85      60610.11\n",
              "2021-12-10  47425.62      62282.50"
            ]
          },
          "metadata": {},
          "execution_count": 94
        }
      ]
    },
    {
      "cell_type": "code",
      "metadata": {
        "colab": {
          "base_uri": "https://localhost:8080/",
          "height": 337
        },
        "id": "80GHOZNRSZKK",
        "outputId": "0dda9583-0566-4a3b-9c1f-abf73e115247"
      },
      "source": [
        "true_price['diff'] = true_price['close'] - true_price['30daysbefore']\n",
        "true_price"
      ],
      "execution_count": null,
      "outputs": [
        {
          "output_type": "stream",
          "name": "stderr",
          "text": [
            "/usr/local/lib/python3.7/dist-packages/ipykernel_launcher.py:1: SettingWithCopyWarning: \n",
            "A value is trying to be set on a copy of a slice from a DataFrame.\n",
            "Try using .loc[row_indexer,col_indexer] = value instead\n",
            "\n",
            "See the caveats in the documentation: https://pandas.pydata.org/pandas-docs/stable/user_guide/indexing.html#returning-a-view-versus-a-copy\n",
            "  \"\"\"Entry point for launching an IPython kernel.\n"
          ]
        },
        {
          "output_type": "execute_result",
          "data": {
            "text/html": [
              "<div>\n",
              "<style scoped>\n",
              "    .dataframe tbody tr th:only-of-type {\n",
              "        vertical-align: middle;\n",
              "    }\n",
              "\n",
              "    .dataframe tbody tr th {\n",
              "        vertical-align: top;\n",
              "    }\n",
              "\n",
              "    .dataframe thead th {\n",
              "        text-align: right;\n",
              "    }\n",
              "</style>\n",
              "<table border=\"1\" class=\"dataframe\">\n",
              "  <thead>\n",
              "    <tr style=\"text-align: right;\">\n",
              "      <th></th>\n",
              "      <th>close</th>\n",
              "      <th>30daysbefore</th>\n",
              "      <th>diff</th>\n",
              "    </tr>\n",
              "    <tr>\n",
              "      <th>time</th>\n",
              "      <th></th>\n",
              "      <th></th>\n",
              "      <th></th>\n",
              "    </tr>\n",
              "  </thead>\n",
              "  <tbody>\n",
              "    <tr>\n",
              "      <th>2021-12-06</th>\n",
              "      <td>50552.83</td>\n",
              "      <td>63089.04</td>\n",
              "      <td>-12536.21</td>\n",
              "    </tr>\n",
              "    <tr>\n",
              "      <th>2021-12-07</th>\n",
              "      <td>50633.01</td>\n",
              "      <td>60315.68</td>\n",
              "      <td>-9682.67</td>\n",
              "    </tr>\n",
              "    <tr>\n",
              "      <th>2021-12-08</th>\n",
              "      <td>50513.04</td>\n",
              "      <td>58464.42</td>\n",
              "      <td>-7951.38</td>\n",
              "    </tr>\n",
              "    <tr>\n",
              "      <th>2021-12-09</th>\n",
              "      <td>47593.85</td>\n",
              "      <td>60610.11</td>\n",
              "      <td>-13016.26</td>\n",
              "    </tr>\n",
              "    <tr>\n",
              "      <th>2021-12-10</th>\n",
              "      <td>47425.62</td>\n",
              "      <td>62282.50</td>\n",
              "      <td>-14856.88</td>\n",
              "    </tr>\n",
              "  </tbody>\n",
              "</table>\n",
              "</div>"
            ],
            "text/plain": [
              "               close  30daysbefore      diff\n",
              "time                                        \n",
              "2021-12-06  50552.83      63089.04 -12536.21\n",
              "2021-12-07  50633.01      60315.68  -9682.67\n",
              "2021-12-08  50513.04      58464.42  -7951.38\n",
              "2021-12-09  47593.85      60610.11 -13016.26\n",
              "2021-12-10  47425.62      62282.50 -14856.88"
            ]
          },
          "metadata": {},
          "execution_count": 96
        }
      ]
    },
    {
      "cell_type": "code",
      "metadata": {
        "colab": {
          "base_uri": "https://localhost:8080/",
          "height": 337
        },
        "id": "arEiqIXrSp-i",
        "outputId": "7301da43-af99-4804-f97c-042955835b98"
      },
      "source": [
        "true_price['class'] = np.where(true_price['diff']>=0,1,0)\n",
        "true_price"
      ],
      "execution_count": null,
      "outputs": [
        {
          "output_type": "stream",
          "name": "stderr",
          "text": [
            "/usr/local/lib/python3.7/dist-packages/ipykernel_launcher.py:1: SettingWithCopyWarning: \n",
            "A value is trying to be set on a copy of a slice from a DataFrame.\n",
            "Try using .loc[row_indexer,col_indexer] = value instead\n",
            "\n",
            "See the caveats in the documentation: https://pandas.pydata.org/pandas-docs/stable/user_guide/indexing.html#returning-a-view-versus-a-copy\n",
            "  \"\"\"Entry point for launching an IPython kernel.\n"
          ]
        },
        {
          "output_type": "execute_result",
          "data": {
            "text/html": [
              "<div>\n",
              "<style scoped>\n",
              "    .dataframe tbody tr th:only-of-type {\n",
              "        vertical-align: middle;\n",
              "    }\n",
              "\n",
              "    .dataframe tbody tr th {\n",
              "        vertical-align: top;\n",
              "    }\n",
              "\n",
              "    .dataframe thead th {\n",
              "        text-align: right;\n",
              "    }\n",
              "</style>\n",
              "<table border=\"1\" class=\"dataframe\">\n",
              "  <thead>\n",
              "    <tr style=\"text-align: right;\">\n",
              "      <th></th>\n",
              "      <th>close</th>\n",
              "      <th>30daysbefore</th>\n",
              "      <th>diff</th>\n",
              "      <th>class</th>\n",
              "    </tr>\n",
              "    <tr>\n",
              "      <th>time</th>\n",
              "      <th></th>\n",
              "      <th></th>\n",
              "      <th></th>\n",
              "      <th></th>\n",
              "    </tr>\n",
              "  </thead>\n",
              "  <tbody>\n",
              "    <tr>\n",
              "      <th>2021-12-06</th>\n",
              "      <td>50552.83</td>\n",
              "      <td>63089.04</td>\n",
              "      <td>-12536.21</td>\n",
              "      <td>0</td>\n",
              "    </tr>\n",
              "    <tr>\n",
              "      <th>2021-12-07</th>\n",
              "      <td>50633.01</td>\n",
              "      <td>60315.68</td>\n",
              "      <td>-9682.67</td>\n",
              "      <td>0</td>\n",
              "    </tr>\n",
              "    <tr>\n",
              "      <th>2021-12-08</th>\n",
              "      <td>50513.04</td>\n",
              "      <td>58464.42</td>\n",
              "      <td>-7951.38</td>\n",
              "      <td>0</td>\n",
              "    </tr>\n",
              "    <tr>\n",
              "      <th>2021-12-09</th>\n",
              "      <td>47593.85</td>\n",
              "      <td>60610.11</td>\n",
              "      <td>-13016.26</td>\n",
              "      <td>0</td>\n",
              "    </tr>\n",
              "    <tr>\n",
              "      <th>2021-12-10</th>\n",
              "      <td>47425.62</td>\n",
              "      <td>62282.50</td>\n",
              "      <td>-14856.88</td>\n",
              "      <td>0</td>\n",
              "    </tr>\n",
              "  </tbody>\n",
              "</table>\n",
              "</div>"
            ],
            "text/plain": [
              "               close  30daysbefore      diff  class\n",
              "time                                               \n",
              "2021-12-06  50552.83      63089.04 -12536.21      0\n",
              "2021-12-07  50633.01      60315.68  -9682.67      0\n",
              "2021-12-08  50513.04      58464.42  -7951.38      0\n",
              "2021-12-09  47593.85      60610.11 -13016.26      0\n",
              "2021-12-10  47425.62      62282.50 -14856.88      0"
            ]
          },
          "metadata": {},
          "execution_count": 98
        }
      ]
    },
    {
      "cell_type": "code",
      "metadata": {
        "colab": {
          "base_uri": "https://localhost:8080/",
          "height": 235
        },
        "id": "4ahDspYZTMVG",
        "outputId": "ee5ba95b-e640-480e-95a1-4f12c0dbbb9e"
      },
      "source": [
        "y_pp['sum'] = y_pp['y_dt'] + y_pp['y_svm'] + y_pp['y_nn']\n",
        "y_pp['y_pre'] = np.where(y_pp['sum']>=2,1,0)\n",
        "y_pp"
      ],
      "execution_count": null,
      "outputs": [
        {
          "output_type": "execute_result",
          "data": {
            "text/html": [
              "<div>\n",
              "<style scoped>\n",
              "    .dataframe tbody tr th:only-of-type {\n",
              "        vertical-align: middle;\n",
              "    }\n",
              "\n",
              "    .dataframe tbody tr th {\n",
              "        vertical-align: top;\n",
              "    }\n",
              "\n",
              "    .dataframe thead th {\n",
              "        text-align: right;\n",
              "    }\n",
              "</style>\n",
              "<table border=\"1\" class=\"dataframe\">\n",
              "  <thead>\n",
              "    <tr style=\"text-align: right;\">\n",
              "      <th></th>\n",
              "      <th>y_svm</th>\n",
              "      <th>y_nn</th>\n",
              "      <th>y_dt</th>\n",
              "      <th>sum</th>\n",
              "      <th>y_pre</th>\n",
              "    </tr>\n",
              "    <tr>\n",
              "      <th>DateTime</th>\n",
              "      <th></th>\n",
              "      <th></th>\n",
              "      <th></th>\n",
              "      <th></th>\n",
              "      <th></th>\n",
              "    </tr>\n",
              "  </thead>\n",
              "  <tbody>\n",
              "    <tr>\n",
              "      <th>2021-10-25</th>\n",
              "      <td>0</td>\n",
              "      <td>0</td>\n",
              "      <td>0</td>\n",
              "      <td>0</td>\n",
              "      <td>0</td>\n",
              "    </tr>\n",
              "    <tr>\n",
              "      <th>2021-10-26</th>\n",
              "      <td>0</td>\n",
              "      <td>0</td>\n",
              "      <td>0</td>\n",
              "      <td>0</td>\n",
              "      <td>0</td>\n",
              "    </tr>\n",
              "    <tr>\n",
              "      <th>2021-10-27</th>\n",
              "      <td>1</td>\n",
              "      <td>0</td>\n",
              "      <td>0</td>\n",
              "      <td>1</td>\n",
              "      <td>0</td>\n",
              "    </tr>\n",
              "    <tr>\n",
              "      <th>2021-10-28</th>\n",
              "      <td>1</td>\n",
              "      <td>1</td>\n",
              "      <td>0</td>\n",
              "      <td>2</td>\n",
              "      <td>1</td>\n",
              "    </tr>\n",
              "    <tr>\n",
              "      <th>2021-10-29</th>\n",
              "      <td>0</td>\n",
              "      <td>0</td>\n",
              "      <td>0</td>\n",
              "      <td>0</td>\n",
              "      <td>0</td>\n",
              "    </tr>\n",
              "  </tbody>\n",
              "</table>\n",
              "</div>"
            ],
            "text/plain": [
              "            y_svm  y_nn  y_dt  sum  y_pre\n",
              "DateTime                                 \n",
              "2021-10-25      0     0     0    0      0\n",
              "2021-10-26      0     0     0    0      0\n",
              "2021-10-27      1     0     0    1      0\n",
              "2021-10-28      1     1     0    2      1\n",
              "2021-10-29      0     0     0    0      0"
            ]
          },
          "metadata": {},
          "execution_count": 119
        }
      ]
    }
  ]
}