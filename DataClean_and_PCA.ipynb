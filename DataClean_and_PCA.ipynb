{
  "nbformat": 4,
  "nbformat_minor": 0,
  "metadata": {
    "colab": {
      "name": "Copy of PCA_2_class.ipynb",
      "provenance": [],
      "collapsed_sections": [],
      "toc_visible": true
    },
    "kernelspec": {
      "name": "python3",
      "display_name": "Python 3"
    },
    "language_info": {
      "name": "python"
    }
  },
  "cells": [
    {
      "cell_type": "code",
      "metadata": {
        "id": "ceuPHAoFmrS9"
      },
      "source": [
        "import pandas as pd\n",
        "import numpy as np"
      ],
      "execution_count": null,
      "outputs": []
    },
    {
      "cell_type": "markdown",
      "metadata": {
        "id": "khMjtelBodGV"
      },
      "source": [
        "#import data"
      ]
    },
    {
      "cell_type": "code",
      "metadata": {
        "id": "t3tLzoIgm69U"
      },
      "source": [
        "df=pd.read_csv('/content/data.csv')"
      ],
      "execution_count": null,
      "outputs": []
    },
    {
      "cell_type": "code",
      "metadata": {
        "colab": {
          "base_uri": "https://localhost:8080/",
          "height": 202
        },
        "id": "XKhgTXKYnH1I",
        "outputId": "393b14e6-39d0-4c9f-b36d-78fddb55170b"
      },
      "source": [
        "df.head(2)"
      ],
      "execution_count": null,
      "outputs": [
        {
          "output_type": "execute_result",
          "data": {
            "text/html": [
              "<div>\n",
              "<style scoped>\n",
              "    .dataframe tbody tr th:only-of-type {\n",
              "        vertical-align: middle;\n",
              "    }\n",
              "\n",
              "    .dataframe tbody tr th {\n",
              "        vertical-align: top;\n",
              "    }\n",
              "\n",
              "    .dataframe thead th {\n",
              "        text-align: right;\n",
              "    }\n",
              "</style>\n",
              "<table border=\"1\" class=\"dataframe\">\n",
              "  <thead>\n",
              "    <tr style=\"text-align: right;\">\n",
              "      <th></th>\n",
              "      <th>DateTime</th>\n",
              "      <th>high</th>\n",
              "      <th>low</th>\n",
              "      <th>open</th>\n",
              "      <th>close</th>\n",
              "      <th>volumeto</th>\n",
              "      <th>ETH</th>\n",
              "      <th>SP500</th>\n",
              "      <th>Russell_2000</th>\n",
              "      <th>Crude_oil</th>\n",
              "      <th>Gold</th>\n",
              "      <th>Silver</th>\n",
              "      <th>EUR/USD</th>\n",
              "      <th>Treasury Yield 10 Years</th>\n",
              "      <th>USD/JPY</th>\n",
              "      <th>wiki_Bitcoin</th>\n",
              "      <th>wiki_Cryptocurrency</th>\n",
              "      <th>wiki_Coinbase</th>\n",
              "    </tr>\n",
              "  </thead>\n",
              "  <tbody>\n",
              "    <tr>\n",
              "      <th>0</th>\n",
              "      <td>2016-06-13</td>\n",
              "      <td>718.24</td>\n",
              "      <td>652.78</td>\n",
              "      <td>666.55</td>\n",
              "      <td>700.07</td>\n",
              "      <td>1.494425e+08</td>\n",
              "      <td>17.56</td>\n",
              "      <td>2079.060059</td>\n",
              "      <td>1150.699951</td>\n",
              "      <td>48.880001</td>\n",
              "      <td>1284.400024</td>\n",
              "      <td>17.427999</td>\n",
              "      <td>1.124000</td>\n",
              "      <td>1.616</td>\n",
              "      <td>106.503998</td>\n",
              "      <td>6523</td>\n",
              "      <td>992</td>\n",
              "      <td>222</td>\n",
              "    </tr>\n",
              "    <tr>\n",
              "      <th>1</th>\n",
              "      <td>2016-06-14</td>\n",
              "      <td>702.52</td>\n",
              "      <td>654.69</td>\n",
              "      <td>700.07</td>\n",
              "      <td>685.14</td>\n",
              "      <td>9.245835e+07</td>\n",
              "      <td>18.84</td>\n",
              "      <td>2075.320068</td>\n",
              "      <td>1147.819946</td>\n",
              "      <td>48.490002</td>\n",
              "      <td>1285.599976</td>\n",
              "      <td>17.410000</td>\n",
              "      <td>1.129102</td>\n",
              "      <td>1.611</td>\n",
              "      <td>106.225998</td>\n",
              "      <td>5839</td>\n",
              "      <td>997</td>\n",
              "      <td>189</td>\n",
              "    </tr>\n",
              "  </tbody>\n",
              "</table>\n",
              "</div>"
            ],
            "text/plain": [
              "     DateTime    high     low  ...  wiki_Bitcoin  wiki_Cryptocurrency  wiki_Coinbase\n",
              "0  2016-06-13  718.24  652.78  ...          6523                  992            222\n",
              "1  2016-06-14  702.52  654.69  ...          5839                  997            189\n",
              "\n",
              "[2 rows x 18 columns]"
            ]
          },
          "metadata": {},
          "execution_count": 52
        }
      ]
    },
    {
      "cell_type": "code",
      "metadata": {
        "colab": {
          "base_uri": "https://localhost:8080/",
          "height": 202
        },
        "id": "_U5sIJpHnQBf",
        "outputId": "bfd6ef6f-d50b-4b9b-b1d2-ce7c3e682510"
      },
      "source": [
        "df.tail(2)"
      ],
      "execution_count": null,
      "outputs": [
        {
          "output_type": "execute_result",
          "data": {
            "text/html": [
              "<div>\n",
              "<style scoped>\n",
              "    .dataframe tbody tr th:only-of-type {\n",
              "        vertical-align: middle;\n",
              "    }\n",
              "\n",
              "    .dataframe tbody tr th {\n",
              "        vertical-align: top;\n",
              "    }\n",
              "\n",
              "    .dataframe thead th {\n",
              "        text-align: right;\n",
              "    }\n",
              "</style>\n",
              "<table border=\"1\" class=\"dataframe\">\n",
              "  <thead>\n",
              "    <tr style=\"text-align: right;\">\n",
              "      <th></th>\n",
              "      <th>DateTime</th>\n",
              "      <th>high</th>\n",
              "      <th>low</th>\n",
              "      <th>open</th>\n",
              "      <th>close</th>\n",
              "      <th>volumeto</th>\n",
              "      <th>ETH</th>\n",
              "      <th>SP500</th>\n",
              "      <th>Russell_2000</th>\n",
              "      <th>Crude_oil</th>\n",
              "      <th>Gold</th>\n",
              "      <th>Silver</th>\n",
              "      <th>EUR/USD</th>\n",
              "      <th>Treasury Yield 10 Years</th>\n",
              "      <th>USD/JPY</th>\n",
              "      <th>wiki_Bitcoin</th>\n",
              "      <th>wiki_Cryptocurrency</th>\n",
              "      <th>wiki_Coinbase</th>\n",
              "    </tr>\n",
              "  </thead>\n",
              "  <tbody>\n",
              "    <tr>\n",
              "      <th>1372</th>\n",
              "      <td>2021-12-01</td>\n",
              "      <td>59096.53</td>\n",
              "      <td>56505.99</td>\n",
              "      <td>56975.35</td>\n",
              "      <td>57227.97</td>\n",
              "      <td>2.072824e+09</td>\n",
              "      <td>4587.74</td>\n",
              "      <td>4513.040039</td>\n",
              "      <td>2147.419922</td>\n",
              "      <td>65.570000</td>\n",
              "      <td>1781.599976</td>\n",
              "      <td>22.299</td>\n",
              "      <td>1.133029</td>\n",
              "      <td>1.434</td>\n",
              "      <td>113.299004</td>\n",
              "      <td>6932</td>\n",
              "      <td>5674</td>\n",
              "      <td>2385</td>\n",
              "    </tr>\n",
              "    <tr>\n",
              "      <th>1373</th>\n",
              "      <td>2021-12-02</td>\n",
              "      <td>57409.48</td>\n",
              "      <td>55850.40</td>\n",
              "      <td>57227.97</td>\n",
              "      <td>56455.09</td>\n",
              "      <td>1.332402e+09</td>\n",
              "      <td>4502.86</td>\n",
              "      <td>4583.049805</td>\n",
              "      <td>2190.657471</td>\n",
              "      <td>66.059998</td>\n",
              "      <td>1763.699951</td>\n",
              "      <td>22.350</td>\n",
              "      <td>1.130199</td>\n",
              "      <td>1.458</td>\n",
              "      <td>113.162003</td>\n",
              "      <td>4597</td>\n",
              "      <td>3888</td>\n",
              "      <td>1229</td>\n",
              "    </tr>\n",
              "  </tbody>\n",
              "</table>\n",
              "</div>"
            ],
            "text/plain": [
              "        DateTime      high  ...  wiki_Cryptocurrency  wiki_Coinbase\n",
              "1372  2021-12-01  59096.53  ...                 5674           2385\n",
              "1373  2021-12-02  57409.48  ...                 3888           1229\n",
              "\n",
              "[2 rows x 18 columns]"
            ]
          },
          "metadata": {},
          "execution_count": 53
        }
      ]
    },
    {
      "cell_type": "markdown",
      "metadata": {
        "id": "wUxjQ_7aog3-"
      },
      "source": [
        "##Calculate 30-day return to create the class"
      ]
    },
    {
      "cell_type": "code",
      "metadata": {
        "id": "80lefiH8ncBE"
      },
      "source": [
        "df['return']=df['close'].pct_change(30).shift(-30)"
      ],
      "execution_count": null,
      "outputs": []
    },
    {
      "cell_type": "code",
      "metadata": {
        "colab": {
          "base_uri": "https://localhost:8080/"
        },
        "id": "NwVD-1JpM1H8",
        "outputId": "6f8a4fb9-ec59-4e98-e3cb-1d8af361bdc9"
      },
      "source": [
        "df['return']"
      ],
      "execution_count": null,
      "outputs": [
        {
          "output_type": "execute_result",
          "data": {
            "text/plain": [
              "0      -0.065265\n",
              "1      -0.044662\n",
              "2      -0.053042\n",
              "3      -0.138963\n",
              "4      -0.184030\n",
              "          ...   \n",
              "1369         NaN\n",
              "1370         NaN\n",
              "1371         NaN\n",
              "1372         NaN\n",
              "1373         NaN\n",
              "Name: return, Length: 1374, dtype: float64"
            ]
          },
          "metadata": {},
          "execution_count": 39
        }
      ]
    },
    {
      "cell_type": "code",
      "metadata": {
        "id": "w0a7HT-kOIII"
      },
      "source": [
        "df_new=df.dropna()"
      ],
      "execution_count": null,
      "outputs": []
    },
    {
      "cell_type": "code",
      "metadata": {
        "id": "DGtqQc2-nyJM",
        "colab": {
          "base_uri": "https://localhost:8080/"
        },
        "outputId": "b5731b8a-d26b-49fe-edad-a3d7a0562b10"
      },
      "source": [
        "df_new['class'] = np.where(df_new['return']>1, 1,0)"
      ],
      "execution_count": null,
      "outputs": [
        {
          "output_type": "stream",
          "name": "stderr",
          "text": [
            "/usr/local/lib/python3.7/dist-packages/ipykernel_launcher.py:1: SettingWithCopyWarning: \n",
            "A value is trying to be set on a copy of a slice from a DataFrame.\n",
            "Try using .loc[row_indexer,col_indexer] = value instead\n",
            "\n",
            "See the caveats in the documentation: https://pandas.pydata.org/pandas-docs/stable/user_guide/indexing.html#returning-a-view-versus-a-copy\n",
            "  \"\"\"Entry point for launching an IPython kernel.\n"
          ]
        }
      ]
    },
    {
      "cell_type": "code",
      "metadata": {
        "colab": {
          "base_uri": "https://localhost:8080/"
        },
        "id": "JL-LNVdiOp_q",
        "outputId": "216cbac0-b405-44b8-fabc-159788dd26d0"
      },
      "source": [
        "df_new['class']"
      ],
      "execution_count": null,
      "outputs": [
        {
          "output_type": "execute_result",
          "data": {
            "text/plain": [
              "0       0\n",
              "1       0\n",
              "2       0\n",
              "3       0\n",
              "4       0\n",
              "       ..\n",
              "1339    0\n",
              "1340    0\n",
              "1341    0\n",
              "1342    0\n",
              "1343    0\n",
              "Name: class, Length: 1344, dtype: int64"
            ]
          },
          "metadata": {},
          "execution_count": 12
        }
      ]
    },
    {
      "cell_type": "code",
      "metadata": {
        "colab": {
          "base_uri": "https://localhost:8080/"
        },
        "id": "qcFOBpNaoBQI",
        "outputId": "2b47627b-bb03-4220-efe7-8ef0ddc236f3"
      },
      "source": [
        "df_new.columns"
      ],
      "execution_count": null,
      "outputs": [
        {
          "output_type": "execute_result",
          "data": {
            "text/plain": [
              "Index(['DateTime', 'high', 'low', 'open', 'close', 'volumeto', 'ETH', 'SP500',\n",
              "       'Russell_2000', 'Crude_oil', 'Gold', 'Silver', 'EUR/USD',\n",
              "       'Treasury Yield 10 Years', 'USD/JPY', 'wiki_Bitcoin',\n",
              "       'wiki_Cryptocurrency', 'wiki_Coinbase', 'return', 'class'],\n",
              "      dtype='object')"
            ]
          },
          "metadata": {},
          "execution_count": 13
        }
      ]
    },
    {
      "cell_type": "code",
      "metadata": {
        "id": "-DmCLk6MoL1H"
      },
      "source": [
        "X=df_new[['high', 'low', 'open', 'close', 'volumeto', 'ETH', 'SP500',\n",
        "       'Russell_2000', 'Crude_oil', 'Gold', 'Silver', 'EUR/USD',\n",
        "       'Treasury Yield 10 Years', 'USD/JPY', 'wiki_Bitcoin',\n",
        "       'wiki_Cryptocurrency', 'wiki_Coinbase']]"
      ],
      "execution_count": null,
      "outputs": []
    },
    {
      "cell_type": "code",
      "metadata": {
        "colab": {
          "base_uri": "https://localhost:8080/",
          "height": 167
        },
        "id": "9O3qsfpJvvQg",
        "outputId": "982b702c-b8dd-4927-b6ef-7e1b0105870a"
      },
      "source": [
        "X.head(2)"
      ],
      "execution_count": null,
      "outputs": [
        {
          "output_type": "execute_result",
          "data": {
            "text/html": [
              "<div>\n",
              "<style scoped>\n",
              "    .dataframe tbody tr th:only-of-type {\n",
              "        vertical-align: middle;\n",
              "    }\n",
              "\n",
              "    .dataframe tbody tr th {\n",
              "        vertical-align: top;\n",
              "    }\n",
              "\n",
              "    .dataframe thead th {\n",
              "        text-align: right;\n",
              "    }\n",
              "</style>\n",
              "<table border=\"1\" class=\"dataframe\">\n",
              "  <thead>\n",
              "    <tr style=\"text-align: right;\">\n",
              "      <th></th>\n",
              "      <th>high</th>\n",
              "      <th>low</th>\n",
              "      <th>open</th>\n",
              "      <th>close</th>\n",
              "      <th>volumeto</th>\n",
              "      <th>ETH</th>\n",
              "      <th>SP500</th>\n",
              "      <th>Russell_2000</th>\n",
              "      <th>Crude_oil</th>\n",
              "      <th>Gold</th>\n",
              "      <th>Silver</th>\n",
              "      <th>EUR/USD</th>\n",
              "      <th>Treasury Yield 10 Years</th>\n",
              "      <th>USD/JPY</th>\n",
              "      <th>wiki_Bitcoin</th>\n",
              "      <th>wiki_Cryptocurrency</th>\n",
              "      <th>wiki_Coinbase</th>\n",
              "    </tr>\n",
              "  </thead>\n",
              "  <tbody>\n",
              "    <tr>\n",
              "      <th>0</th>\n",
              "      <td>718.24</td>\n",
              "      <td>652.78</td>\n",
              "      <td>666.55</td>\n",
              "      <td>700.07</td>\n",
              "      <td>1.494425e+08</td>\n",
              "      <td>17.56</td>\n",
              "      <td>2079.060059</td>\n",
              "      <td>1150.699951</td>\n",
              "      <td>48.880001</td>\n",
              "      <td>1284.400024</td>\n",
              "      <td>17.427999</td>\n",
              "      <td>1.124000</td>\n",
              "      <td>1.616</td>\n",
              "      <td>106.503998</td>\n",
              "      <td>6523</td>\n",
              "      <td>992</td>\n",
              "      <td>222</td>\n",
              "    </tr>\n",
              "    <tr>\n",
              "      <th>1</th>\n",
              "      <td>702.52</td>\n",
              "      <td>654.69</td>\n",
              "      <td>700.07</td>\n",
              "      <td>685.14</td>\n",
              "      <td>9.245835e+07</td>\n",
              "      <td>18.84</td>\n",
              "      <td>2075.320068</td>\n",
              "      <td>1147.819946</td>\n",
              "      <td>48.490002</td>\n",
              "      <td>1285.599976</td>\n",
              "      <td>17.410000</td>\n",
              "      <td>1.129102</td>\n",
              "      <td>1.611</td>\n",
              "      <td>106.225998</td>\n",
              "      <td>5839</td>\n",
              "      <td>997</td>\n",
              "      <td>189</td>\n",
              "    </tr>\n",
              "  </tbody>\n",
              "</table>\n",
              "</div>"
            ],
            "text/plain": [
              "     high     low    open  ...  wiki_Bitcoin  wiki_Cryptocurrency  wiki_Coinbase\n",
              "0  718.24  652.78  666.55  ...          6523                  992            222\n",
              "1  702.52  654.69  700.07  ...          5839                  997            189\n",
              "\n",
              "[2 rows x 17 columns]"
            ]
          },
          "metadata": {},
          "execution_count": 16
        }
      ]
    },
    {
      "cell_type": "code",
      "metadata": {
        "id": "ngpgsRdfoVeV"
      },
      "source": [
        "y=df_new[['class']]"
      ],
      "execution_count": null,
      "outputs": []
    },
    {
      "cell_type": "code",
      "metadata": {
        "colab": {
          "base_uri": "https://localhost:8080/"
        },
        "id": "Nc7ts8IFLynT",
        "outputId": "6679b8c1-0337-42c0-9608-76a2eb1f9734"
      },
      "source": [
        "df_new['class'].unique()"
      ],
      "execution_count": null,
      "outputs": [
        {
          "output_type": "execute_result",
          "data": {
            "text/plain": [
              "array([0, 1])"
            ]
          },
          "metadata": {},
          "execution_count": 18
        }
      ]
    },
    {
      "cell_type": "code",
      "metadata": {
        "id": "vrz4ow4DkNIB"
      },
      "source": [
        "#new section "
      ],
      "execution_count": null,
      "outputs": []
    },
    {
      "cell_type": "code",
      "metadata": {
        "id": "cQArgRh-kPVJ"
      },
      "source": [
        "X=df[['high', 'low', 'open', 'close', 'volumeto', 'ETH', 'SP500',\n",
        "       'Russell_2000', 'Crude_oil', 'Gold', 'Silver', 'EUR/USD',\n",
        "       'Treasury Yield 10 Years', 'USD/JPY', 'wiki_Bitcoin',\n",
        "       'wiki_Cryptocurrency', 'wiki_Coinbase']]"
      ],
      "execution_count": null,
      "outputs": []
    },
    {
      "cell_type": "markdown",
      "metadata": {
        "id": "Kttl7QCVo2iw"
      },
      "source": [
        "#Apply PCA to the data "
      ]
    },
    {
      "cell_type": "code",
      "metadata": {
        "id": "kSgetF5jSCTR"
      },
      "source": [
        "from sklearn.preprocessing import StandardScaler\n",
        "X_scaled = StandardScaler().fit_transform(X)"
      ],
      "execution_count": null,
      "outputs": []
    },
    {
      "cell_type": "code",
      "metadata": {
        "id": "nd9FAQI_pMC3"
      },
      "source": [
        "from sklearn.decomposition import PCA\n",
        "\n",
        "# Set the n_components=1\n",
        "principal=PCA(n_components=7)\n",
        "principal.fit(X_scaled)\n",
        "x_pca=principal.transform(X_scaled)"
      ],
      "execution_count": null,
      "outputs": []
    },
    {
      "cell_type": "code",
      "metadata": {
        "id": "WFlKTriopR-D"
      },
      "source": [
        "explained_variance=principal.explained_variance_ratio_"
      ],
      "execution_count": null,
      "outputs": []
    },
    {
      "cell_type": "code",
      "metadata": {
        "colab": {
          "base_uri": "https://localhost:8080/"
        },
        "id": "PSUpd03PSSj0",
        "outputId": "eee3cd6f-88da-441a-f3aa-b87e90c5abe4"
      },
      "source": [
        "explained_variance\n"
      ],
      "execution_count": null,
      "outputs": [
        {
          "output_type": "execute_result",
          "data": {
            "text/plain": [
              "array([0.55746787, 0.18415453, 0.10263912, 0.05342675, 0.02471069,\n",
              "       0.01855497, 0.01660618])"
            ]
          },
          "metadata": {},
          "execution_count": 73
        }
      ]
    },
    {
      "cell_type": "code",
      "metadata": {
        "id": "Dm9AXAEIsunL"
      },
      "source": [
        "total_score=round(sum(explained_variance),2)"
      ],
      "execution_count": null,
      "outputs": []
    },
    {
      "cell_type": "code",
      "metadata": {
        "colab": {
          "base_uri": "https://localhost:8080/"
        },
        "id": "j68RpFLks0-f",
        "outputId": "c1f19267-8ec6-4676-87cd-4a1cd90ece6c"
      },
      "source": [
        "total_score"
      ],
      "execution_count": null,
      "outputs": [
        {
          "output_type": "execute_result",
          "data": {
            "text/plain": [
              "0.96"
            ]
          },
          "metadata": {},
          "execution_count": 75
        }
      ]
    },
    {
      "cell_type": "code",
      "metadata": {
        "colab": {
          "base_uri": "https://localhost:8080/"
        },
        "id": "6JkP095_1sFc",
        "outputId": "77e3dfcc-6a86-4d0b-9d60-c015aee83479"
      },
      "source": [
        "print(principal.explained_variance_)\n",
        "print(principal.explained_variance_ratio_)\n",
        "print(principal.explained_variance_ratio_.cumsum())"
      ],
      "execution_count": null,
      "outputs": [
        {
          "output_type": "stream",
          "name": "stdout",
          "text": [
            "[9.48385619 3.13290712 1.7461358  0.90891634 0.42038762 0.31566428\n",
            " 0.28251073]\n",
            "[0.55746787 0.18415453 0.10263912 0.05342675 0.02471069 0.01855497\n",
            " 0.01660618]\n",
            "[0.55746787 0.7416224  0.84426151 0.89768827 0.92239896 0.94095393\n",
            " 0.95756011]\n"
          ]
        }
      ]
    },
    {
      "cell_type": "code",
      "metadata": {
        "id": "QC9nC367c4NZ"
      },
      "source": [
        "#Export data\n",
        "x_pc_df = pd.DataFrame(data = x_pca\n",
        "             , columns = ['pc_1', 'pc_2','pc_3','pc_4','pc_5','pc_6','pc_7'])"
      ],
      "execution_count": null,
      "outputs": []
    },
    {
      "cell_type": "code",
      "metadata": {
        "id": "Jxjc8P1_h2qS"
      },
      "source": [
        "x_new=x_pc_df"
      ],
      "execution_count": null,
      "outputs": []
    },
    {
      "cell_type": "code",
      "metadata": {
        "id": "de_bWV9kt4Zk"
      },
      "source": [
        "x_new['class']=y"
      ],
      "execution_count": null,
      "outputs": []
    },
    {
      "cell_type": "code",
      "metadata": {
        "id": "VIcwpq7bRd_M"
      },
      "source": [
        "x_new['date']=df['DateTime']"
      ],
      "execution_count": null,
      "outputs": []
    },
    {
      "cell_type": "code",
      "metadata": {
        "colab": {
          "base_uri": "https://localhost:8080/"
        },
        "id": "frPmvvPTpw-j",
        "outputId": "8e90dbd7-af2b-43de-d900-2d845ae4e076"
      },
      "source": [
        "print(len(x_new))"
      ],
      "execution_count": null,
      "outputs": [
        {
          "output_type": "stream",
          "name": "stdout",
          "text": [
            "1374\n"
          ]
        }
      ]
    },
    {
      "cell_type": "code",
      "metadata": {
        "id": "7waqza4St_PM"
      },
      "source": [
        "x_new.to_csv('/content/pca_results_7f_alldate.csv')"
      ],
      "execution_count": null,
      "outputs": []
    }
  ]
}